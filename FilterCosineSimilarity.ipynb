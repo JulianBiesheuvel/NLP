{
 "cells": [
  {
   "cell_type": "code",
   "execution_count": 4,
   "id": "bee2a29a",
   "metadata": {},
   "outputs": [],
   "source": [
    "#filter our datasets\n",
    "file = \"C:/Users/vrnsr/OneDrive/Documents/TU Delft/Q3/NLP/final_df.csv\""
   ]
  },
  {
   "cell_type": "code",
   "execution_count": 6,
   "id": "67247e04",
   "metadata": {},
   "outputs": [],
   "source": [
    "import pandas as pd\n",
    "df = pd.read_csv(file,header=0)\n",
    "pid = list(df['pid'])\n",
    "#print(pid)"
   ]
  },
  {
   "cell_type": "code",
   "execution_count": 9,
   "id": "2a30300f",
   "metadata": {},
   "outputs": [
    {
     "name": "stdout",
     "output_type": "stream",
     "text": [
      "size :  83400\n"
     ]
    },
    {
     "data": {
      "application/vnd.jupyter.widget-view+json": {
       "model_id": "ec31121e5dbb43fa8008efc12fe4c2e0",
       "version_major": 2,
       "version_minor": 0
      },
      "text/plain": [
       "  0%|          | 0/88 [00:00<?, ?it/s]"
      ]
     },
     "metadata": {},
     "output_type": "display_data"
    },
    {
     "name": "stdout",
     "output_type": "stream",
     "text": [
      "100000 200000\n",
      "200000 300000\n",
      "300000 400000\n",
      "400000 500000\n",
      "500000 600000\n",
      "600000 700000\n",
      "700000 800000\n",
      "800000 900000\n",
      "900000 1000000\n",
      "1000000 1100000\n",
      "1100000 1200000\n",
      "1200000 1300000\n",
      "1300000 1400000\n",
      "1400000 1500000\n",
      "1500000 1600000\n",
      "1600000 1700000\n",
      "1700000 1800000\n",
      "1800000 1900000\n",
      "1900000 2000000\n",
      "2000000 2100000\n",
      "2100000 2200000\n",
      "2200000 2300000\n",
      "2300000 2400000\n",
      "2400000 2500000\n",
      "2500000 2600000\n",
      "2600000 2700000\n",
      "2700000 2800000\n",
      "2800000 2900000\n",
      "2900000 3000000\n",
      "3000000 3100000\n",
      "3100000 3200000\n",
      "3200000 3300000\n",
      "3300000 3400000\n",
      "3400000 3500000\n",
      "3500000 3600000\n",
      "3600000 3700000\n",
      "3700000 3800000\n",
      "3800000 3900000\n",
      "3900000 4000000\n",
      "4000000 4100000\n",
      "4100000 4200000\n",
      "4200000 4300000\n",
      "4300000 4400000\n",
      "4400000 4500000\n",
      "4500000 4600000\n",
      "4600000 4700000\n",
      "4700000 4800000\n",
      "4800000 4900000\n",
      "4900000 5000000\n",
      "5000000 5100000\n",
      "5100000 5200000\n",
      "5200000 5300000\n",
      "5300000 5400000\n",
      "5400000 5500000\n",
      "5500000 5600000\n",
      "5600000 5700000\n",
      "5700000 5800000\n",
      "5800000 5900000\n",
      "5900000 6000000\n",
      "6000000 6100000\n",
      "6100000 6200000\n",
      "6200000 6300000\n",
      "6300000 6400000\n",
      "6400000 6500000\n",
      "6500000 6600000\n",
      "6600000 6700000\n",
      "6700000 6800000\n",
      "6800000 6900000\n",
      "6900000 7000000\n",
      "7000000 7100000\n",
      "7100000 7200000\n",
      "7200000 7300000\n",
      "7300000 7400000\n",
      "7400000 7500000\n",
      "7500000 7600000\n",
      "7600000 7700000\n",
      "7700000 7800000\n",
      "7800000 7900000\n",
      "7900000 8000000\n",
      "8000000 8100000\n",
      "8100000 8200000\n",
      "8200000 8300000\n",
      "8300000 8400000\n",
      "8400000 8500000\n",
      "8500000 8600000\n",
      "8600000 8700000\n",
      "8700000 8800000\n",
      "8800000 8841823\n"
     ]
    }
   ],
   "source": [
    "from tqdm.notebook import tqdm\n",
    "tqdm.pandas()\n",
    "batch = 100000\n",
    "start = 100000\n",
    "end = 8841823\n",
    "\n",
    "final_data = pd.read_csv(\"C:/Users/vrnsr/OneDrive/Documents/TU Delft/Q3/NLP/doc_vec_fastext0-100000.csv\", header=0)\n",
    "final_data = final_data[final_data['doc_id'].isin(pid)]\n",
    "print('size : ', len(final_data))\n",
    "\n",
    "for i in tqdm(range(start, end,batch)):\n",
    "    up = min(i+batch, end)\n",
    "    print(i, up)\n",
    "    name = \"C:/Users/vrnsr/OneDrive/Documents/TU Delft/Q3/NLP/doc_vec_fastext\" + str(i) + \"-\" + str(up)\n",
    "    file = name + \".csv\"\n",
    "    \n",
    "    try:\n",
    "        df_doc = pd.read_csv(name, header=0)\n",
    "    except:\n",
    "        df_doc = pd.read_csv(file, header=0)\n",
    "        \n",
    "    df_doc = df_doc[df_doc['doc_id'].isin(pid)]\n",
    "    \n",
    "    frames = [df_doc, final_data]\n",
    "    final_data = pd.concat(frames,ignore_index=True)"
   ]
  },
  {
   "cell_type": "code",
   "execution_count": 10,
   "id": "84093ba2",
   "metadata": {},
   "outputs": [
    {
     "name": "stdout",
     "output_type": "stream",
     "text": [
      "91000\n",
      "7901900\n"
     ]
    }
   ],
   "source": [
    "print(len(df))\n",
    "print(len(final_data))"
   ]
  },
  {
   "cell_type": "code",
   "execution_count": 13,
   "id": "80b1693b",
   "metadata": {},
   "outputs": [],
   "source": [
    "final_data.rename(columns={\"doc_id\": \"pid\"}, inplace=True)\n",
    "final_data.rename(columns={\"cosine\": \"cdist_fasttext\"}, inplace=True)"
   ]
  },
  {
   "cell_type": "code",
   "execution_count": 16,
   "id": "30022b43",
   "metadata": {},
   "outputs": [
    {
     "name": "stdout",
     "output_type": "stream",
     "text": [
      "['qid', 'pid', 'cdist_fasttext']\n"
     ]
    }
   ],
   "source": [
    "print(list(final_data))"
   ]
  },
  {
   "cell_type": "code",
   "execution_count": 18,
   "id": "1f7272f2",
   "metadata": {},
   "outputs": [],
   "source": [
    "final_data = pd.merge(df, final_data, on=['qid', 'pid'])"
   ]
  },
  {
   "cell_type": "code",
   "execution_count": 19,
   "id": "baf156f4",
   "metadata": {},
   "outputs": [
    {
     "name": "stdout",
     "output_type": "stream",
     "text": [
      "91000\n",
      "91000\n"
     ]
    }
   ],
   "source": [
    "#After finishing all operations, len of both should be equal\n",
    "print(len(df))\n",
    "print(len(final_data))"
   ]
  },
  {
   "cell_type": "code",
   "execution_count": 20,
   "id": "1abe3642",
   "metadata": {},
   "outputs": [],
   "source": [
    "final_data.to_csv(\"fastext_cosinesim.csv\", index=False)"
   ]
  },
  {
   "cell_type": "code",
   "execution_count": null,
   "id": "3c59a9bf",
   "metadata": {},
   "outputs": [],
   "source": []
  }
 ],
 "metadata": {
  "kernelspec": {
   "display_name": "Python 3",
   "language": "python",
   "name": "python3"
  },
  "language_info": {
   "codemirror_mode": {
    "name": "ipython",
    "version": 3
   },
   "file_extension": ".py",
   "mimetype": "text/x-python",
   "name": "python",
   "nbconvert_exporter": "python",
   "pygments_lexer": "ipython3",
   "version": "3.8.8"
  }
 },
 "nbformat": 4,
 "nbformat_minor": 5
}
