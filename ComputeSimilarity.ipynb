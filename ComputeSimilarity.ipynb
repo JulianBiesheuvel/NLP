{
 "cells": [
  {
   "cell_type": "code",
   "execution_count": 65,
   "metadata": {
    "colab": {
     "base_uri": "https://localhost:8080/"
    },
    "id": "RLV_JN4KcLA6",
    "outputId": "bd1e7cf4-2581-425a-cb9c-03fffa2cb7d0"
   },
   "outputs": [
    {
     "ename": "RuntimeError",
     "evalue": "pt.init() has already been called. Check pt.started() before calling pt.init()",
     "output_type": "error",
     "traceback": [
      "\u001b[1;31m---------------------------------------------------------------------------\u001b[0m",
      "\u001b[1;31mRuntimeError\u001b[0m                              Traceback (most recent call last)",
      "\u001b[1;32m<ipython-input-65-31d8f9e00e68>\u001b[0m in \u001b[0;36m<module>\u001b[1;34m\u001b[0m\n\u001b[0;32m      1\u001b[0m \u001b[1;31m#!pip install python-terrier\u001b[0m\u001b[1;33m\u001b[0m\u001b[1;33m\u001b[0m\u001b[1;33m\u001b[0m\u001b[0m\n\u001b[0;32m      2\u001b[0m \u001b[1;32mimport\u001b[0m \u001b[0mpyterrier\u001b[0m \u001b[1;32mas\u001b[0m \u001b[0mpt\u001b[0m\u001b[1;33m\u001b[0m\u001b[1;33m\u001b[0m\u001b[0m\n\u001b[1;32m----> 3\u001b[1;33m \u001b[0mpt\u001b[0m\u001b[1;33m.\u001b[0m\u001b[0minit\u001b[0m\u001b[1;33m(\u001b[0m\u001b[1;33m)\u001b[0m\u001b[1;33m\u001b[0m\u001b[1;33m\u001b[0m\u001b[0m\n\u001b[0m",
      "\u001b[1;32m~\\anaconda3\\lib\\site-packages\\pyterrier\\__init__.py\u001b[0m in \u001b[0;36minit\u001b[1;34m(version, mem, packages, jvm_opts, redirect_io, logging, home_dir, boot_packages, tqdm, no_download, helper_version)\u001b[0m\n\u001b[0;32m     75\u001b[0m     \u001b[1;32mglobal\u001b[0m \u001b[0mfirstInit\u001b[0m\u001b[1;33m\u001b[0m\u001b[1;33m\u001b[0m\u001b[0m\n\u001b[0;32m     76\u001b[0m     \u001b[1;32mif\u001b[0m \u001b[0mfirstInit\u001b[0m\u001b[1;33m:\u001b[0m\u001b[1;33m\u001b[0m\u001b[1;33m\u001b[0m\u001b[0m\n\u001b[1;32m---> 77\u001b[1;33m         \u001b[1;32mraise\u001b[0m \u001b[0mRuntimeError\u001b[0m\u001b[1;33m(\u001b[0m\u001b[1;34m\"pt.init() has already been called. Check pt.started() before calling pt.init()\"\u001b[0m\u001b[1;33m)\u001b[0m\u001b[1;33m\u001b[0m\u001b[1;33m\u001b[0m\u001b[0m\n\u001b[0m\u001b[0;32m     78\u001b[0m \u001b[1;33m\u001b[0m\u001b[0m\n\u001b[0;32m     79\u001b[0m     \u001b[1;31m# check python version\u001b[0m\u001b[1;33m\u001b[0m\u001b[1;33m\u001b[0m\u001b[1;33m\u001b[0m\u001b[0m\n",
      "\u001b[1;31mRuntimeError\u001b[0m: pt.init() has already been called. Check pt.started() before calling pt.init()"
     ]
    }
   ],
   "source": [
    "#!pip install python-terrier\n",
    "import pyterrier as pt\n",
    "pt.init()"
   ]
  },
  {
   "cell_type": "code",
   "execution_count": 19,
   "metadata": {
    "colab": {
     "base_uri": "https://localhost:8080/"
    },
    "id": "pzlwlCRZcNtS",
    "outputId": "eb876693-3564-46d8-ce6d-6888e3584f6d"
   },
   "outputs": [
    {
     "name": "stdout",
     "output_type": "stream",
     "text": [
      "22:22:44.318 [main] WARN org.terrier.applications.batchquerying.TRECQuery - trec.encoding is not set; resorting to platform default (windows-1252). Retrieval may be platform dependent. Recommend trec.encoding=UTF-8\n",
      "        qid                                              query\n",
      "0   1000005                    where is westminster california\n",
      "1   1000007                            where is westminster ma\n",
      "2   1000008                            where is westminster md\n",
      "3   1000009                 where is westmont illinois located\n",
      "4   1000010                              where is westmoreland\n",
      "..      ...                                                ...\n",
      "95  1000154                        where is william key buried\n",
      "96  1000155                         where is william levy from\n",
      "97  1000156                    where is william whipple buried\n",
      "98  1000160                           where is williamsburg ky\n",
      "99  1000162  where is williamsburg located on the map back ...\n",
      "\n",
      "[100 rows x 2 columns]\n"
     ]
    }
   ],
   "source": [
    "# Load the dataset\n",
    "\n",
    "import pandas as pd\n",
    "\n",
    "dataset = pt.get_dataset(\"trec-deep-learning-passages\")\n",
    "train_topics = dataset.get_topics(\"train\")\n",
    "train_qrels = dataset.get_qrels(\"train\")\n",
    "train_topics = train_topics.sort_values(by='qid', ascending=True)[3:]\n",
    "train_qrels = train_qrels.sort_values(by='qid', ascending=True)[3:]\n",
    "# A simple join operation on the qids, as we have much more queries than qrels, we want to only use those\n",
    "# queries with a qrel for optimal training performances. \n",
    "temp = pd.merge(train_topics, train_qrels, left_on='qid', right_on='qid')\n",
    "# Make the new train_topics dataframe with only those queries that have a qrel\n",
    "train_topics_100 = pd.read_csv(\"train_topics_100.csv\", header=0)\n",
    "print(train_topics_100 )"
   ]
  },
  {
   "cell_type": "code",
   "execution_count": 20,
   "metadata": {
    "colab": {
     "base_uri": "https://localhost:8080/",
     "height": 423
    },
    "id": "k20gV-qMclai",
    "outputId": "062780cf-4df1-46b2-d981-24e163397660"
   },
   "outputs": [
    {
     "data": {
      "text/html": [
       "<div>\n",
       "<style scoped>\n",
       "    .dataframe tbody tr th:only-of-type {\n",
       "        vertical-align: middle;\n",
       "    }\n",
       "\n",
       "    .dataframe tbody tr th {\n",
       "        vertical-align: top;\n",
       "    }\n",
       "\n",
       "    .dataframe thead th {\n",
       "        text-align: right;\n",
       "    }\n",
       "</style>\n",
       "<table border=\"1\" class=\"dataframe\">\n",
       "  <thead>\n",
       "    <tr style=\"text-align: right;\">\n",
       "      <th></th>\n",
       "      <th>qid</th>\n",
       "      <th>docno</th>\n",
       "      <th>label</th>\n",
       "    </tr>\n",
       "  </thead>\n",
       "  <tbody>\n",
       "    <tr>\n",
       "      <th>0</th>\n",
       "      <td>1000005</td>\n",
       "      <td>3617173</td>\n",
       "      <td>1</td>\n",
       "    </tr>\n",
       "    <tr>\n",
       "      <th>1</th>\n",
       "      <td>1000007</td>\n",
       "      <td>5939245</td>\n",
       "      <td>1</td>\n",
       "    </tr>\n",
       "    <tr>\n",
       "      <th>2</th>\n",
       "      <td>1000008</td>\n",
       "      <td>4630854</td>\n",
       "      <td>1</td>\n",
       "    </tr>\n",
       "    <tr>\n",
       "      <th>3</th>\n",
       "      <td>1000009</td>\n",
       "      <td>1728286</td>\n",
       "      <td>1</td>\n",
       "    </tr>\n",
       "    <tr>\n",
       "      <th>4</th>\n",
       "      <td>1000010</td>\n",
       "      <td>4186186</td>\n",
       "      <td>1</td>\n",
       "    </tr>\n",
       "    <tr>\n",
       "      <th>...</th>\n",
       "      <td>...</td>\n",
       "      <td>...</td>\n",
       "      <td>...</td>\n",
       "    </tr>\n",
       "    <tr>\n",
       "      <th>95</th>\n",
       "      <td>100015</td>\n",
       "      <td>3035531</td>\n",
       "      <td>1</td>\n",
       "    </tr>\n",
       "    <tr>\n",
       "      <th>96</th>\n",
       "      <td>1000150</td>\n",
       "      <td>3598087</td>\n",
       "      <td>1</td>\n",
       "    </tr>\n",
       "    <tr>\n",
       "      <th>97</th>\n",
       "      <td>1000153</td>\n",
       "      <td>3606427</td>\n",
       "      <td>1</td>\n",
       "    </tr>\n",
       "    <tr>\n",
       "      <th>98</th>\n",
       "      <td>1000154</td>\n",
       "      <td>4609289</td>\n",
       "      <td>1</td>\n",
       "    </tr>\n",
       "    <tr>\n",
       "      <th>99</th>\n",
       "      <td>1000155</td>\n",
       "      <td>5288315</td>\n",
       "      <td>1</td>\n",
       "    </tr>\n",
       "  </tbody>\n",
       "</table>\n",
       "<p>100 rows × 3 columns</p>\n",
       "</div>"
      ],
      "text/plain": [
       "        qid    docno  label\n",
       "0   1000005  3617173      1\n",
       "1   1000007  5939245      1\n",
       "2   1000008  4630854      1\n",
       "3   1000009  1728286      1\n",
       "4   1000010  4186186      1\n",
       "..      ...      ...    ...\n",
       "95   100015  3035531      1\n",
       "96  1000150  3598087      1\n",
       "97  1000153  3606427      1\n",
       "98  1000154  4609289      1\n",
       "99  1000155  5288315      1\n",
       "\n",
       "[100 rows x 3 columns]"
      ]
     },
     "execution_count": 20,
     "metadata": {},
     "output_type": "execute_result"
    }
   ],
   "source": [
    "train_qrel_100 = pd.concat([temp['qid'], temp['docno'], temp['label']], axis=1, keys=['qid', 'docno', 'label'])\n",
    "train_qrel_100.head(100)"
   ]
  },
  {
   "cell_type": "code",
   "execution_count": null,
   "metadata": {
    "colab": {
     "base_uri": "https://localhost:8080/",
     "height": 101,
     "referenced_widgets": [
      "5733de7ee0314f6ba396c0e5f946b5e3",
      "5e5dad267dc442b594a23042e0cef740",
      "4e20e5443a3a4c3cbf0f6864b7a62f95",
      "3d5d6dda2c454fa1b6874b07832532d0",
      "f382d027c3da45c6ab81f034343e0864",
      "f668f0b13e1a4cff80898517c141c567",
      "aeaecedbe89b4fccbbd2a3638ed603d1",
      "a53a4a64669d4da1b98e62c859e303be",
      "586d858fa2b04388847593e77384acbf",
      "de0b3d63791e423eaa4e890bbbe4d7f8",
      "6b8a2a54bb4a4cd7abe23e23b074a35d"
     ]
    },
    "id": "ltLHX827jC5Y",
    "outputId": "f734e26c-0f10-44c9-a27f-51bd802e2dc2"
   },
   "outputs": [],
   "source": [
    "#print(dataset.get_corpus())"
   ]
  },
  {
   "cell_type": "code",
   "execution_count": 35,
   "metadata": {
    "colab": {
     "base_uri": "https://localhost:8080/"
    },
    "id": "ipxmUgN8kcAj",
    "outputId": "a7b7b497-16fa-4ea0-f7ae-f014ecaf139c"
   },
   "outputs": [
    {
     "name": "stdout",
     "output_type": "stream",
     "text": [
      "  doc_id                                            passage\n",
      "0      0  The presence of communication amid scientific ...\n",
      "1      1  The Manhattan Project and its atomic bomb help...\n",
      "2      2  Essay on The Manhattan Project - The Manhattan...\n",
      "3      3  The Manhattan Project was the name for a proje...\n",
      "4      4  versions of each volume as well as complementa...\n",
      "  doc_id                                            passage\n",
      "0      0  the presence of communication amid scientific ...\n",
      "1      1  the manhattan project and its atomic bomb help...\n",
      "2      2  essay on the manhattan project - the manhattan...\n",
      "3      3  the manhattan project was the name for a proje...\n",
      "4      4  versions of each volume as well as complementa...\n"
     ]
    }
   ],
   "source": [
    "import pandas as pd\n",
    "file = 'C:/Users/vrnsr/Downloads/collection/collection.tsv'\n",
    "documents = []\n",
    "with open(file ,encoding=\"utf8\") as f:\n",
    "  for line in f:\n",
    "    documents.append(line.split('\\t'))\n",
    "\n",
    "documents = pd.DataFrame(documents, columns=[\"doc_id\",\"passage\"])\n",
    "\n",
    "print(documents.head())\n",
    "documents['passage'] = documents['passage'].apply(lambda x: x.lower())\n",
    "print(documents.head())"
   ]
  },
  {
   "cell_type": "code",
   "execution_count": 8,
   "metadata": {
    "colab": {
     "base_uri": "https://localhost:8080/",
     "height": 363
    },
    "id": "oSH-AnxypcYi",
    "outputId": "27a3d232-3211-41a6-a389-a02e6ae429c8"
   },
   "outputs": [
    {
     "name": "stdout",
     "output_type": "stream",
     "text": [
      "Collecting gensim\n",
      "  Downloading gensim-4.1.2-cp38-cp38-win_amd64.whl (24.0 MB)\n",
      "Collecting smart-open>=1.8.1\n",
      "  Downloading smart_open-5.2.1-py3-none-any.whl (58 kB)\n",
      "Requirement already satisfied: scipy>=0.18.1 in c:\\users\\vrnsr\\anaconda3\\lib\\site-packages (from gensim) (1.6.2)\n",
      "Requirement already satisfied: numpy>=1.17.0 in c:\\users\\vrnsr\\anaconda3\\lib\\site-packages (from gensim) (1.20.1)\n",
      "Requirement already satisfied: Cython==0.29.23 in c:\\users\\vrnsr\\anaconda3\\lib\\site-packages (from gensim) (0.29.23)\n",
      "Installing collected packages: smart-open, gensim\n",
      "Successfully installed gensim-4.1.2 smart-open-5.2.1\n"
     ]
    }
   ],
   "source": [
    "!pip install gensim"
   ]
  },
  {
   "cell_type": "code",
   "execution_count": 16,
   "metadata": {},
   "outputs": [],
   "source": [
    "#Note to self - check length of the vector if it is 300 for both fasttext and Glove\n",
    "import numpy as np\n",
    "#load model accordingly and load embeddings\n",
    "from gensim.models import KeyedVectors\n",
    "model =  KeyedVectors.load_word2vec_format('wiki-news-300d-1M.vec')"
   ]
  },
  {
   "cell_type": "code",
   "execution_count": 17,
   "metadata": {},
   "outputs": [],
   "source": [
    "# Function returning vector reperesentation of a document\n",
    "def get_embedding(doc_tokens):\n",
    "    embeddings = []\n",
    "    if len(doc_tokens)<1:\n",
    "        return np.zeros(300)\n",
    "    else:\n",
    "        for word in doc_tokens:\n",
    "            #if token exists in the trained model's vocabulary then fetch its vector\n",
    "            try:\n",
    "                embeddings.append(model.get_vector(word))\n",
    "            #if it is an out-of-vocabulary word, generate a random vector of len 300\n",
    "            except:\n",
    "                embeddings.append(np.random.rand(300))\n",
    "\n",
    "        #Note to self - understand why we are computing mean of these vectors        \n",
    "        # mean the vectors of individual words to get the vector of the document\n",
    "        return np.mean(embeddings, axis=0)"
   ]
  },
  {
   "cell_type": "code",
   "execution_count": 36,
   "metadata": {
    "colab": {
     "base_uri": "https://localhost:8080/",
     "height": 363
    },
    "id": "tlHG-XkDlqa2",
    "outputId": "d9bf86a4-7e06-4943-bb8a-e1879ce85d3e"
   },
   "outputs": [
    {
     "data": {
      "text/plain": [
       "'import time\\na = time.time()\\n#x1 = documents[:100000]\\nprint(len(documents))\\n#x1[\\'vector\\'] = x1[\\'passage\\'].progress_apply(lambda x :get_embedding(x.split()))\\n#print(\"time = \", time.time()-a)\\ndocuments[\\'vector\\'] = documents[\\'passage\\'].progress_apply(lambda x :get_embedding(x.split()))\\n#x1.progress_apply(lambda x: x**2)'"
      ]
     },
     "execution_count": 36,
     "metadata": {},
     "output_type": "execute_result"
    }
   ],
   "source": [
    "'''import time\n",
    "a = time.time()\n",
    "#x1 = documents[:100000]\n",
    "print(len(documents))\n",
    "#x1['vector']= x1['passage'].progress_apply(lambda x :get_embedding(x.split()))\n",
    "#print(\"time = \", time.time()-a)\n",
    "documents['vector'] = documents['passage'].progress_apply(lambda x :get_embedding(x.split()))\n",
    "#x1.progress_apply(lambda x: x**2)'''\n",
    "#8,841,823"
   ]
  },
  {
   "cell_type": "code",
   "execution_count": 64,
   "metadata": {},
   "outputs": [],
   "source": [
    "#rain_topics_100['query'] = train_topics_100['query'].apply(lambda x :x.lower())\n",
    "#train_topics_100['vector'] = train_topics_100['query'].apply(lambda x :get_embedding(x.split()))\n",
    "#print(train_topics_100)\n",
    "#train_topics_100.to_csv(\"train_topics_100_fasttext_vectors.csv\", index=False)"
   ]
  },
  {
   "cell_type": "code",
   "execution_count": 37,
   "metadata": {},
   "outputs": [
    {
     "data": {
      "text/html": [
       "<div>\n",
       "<style scoped>\n",
       "    .dataframe tbody tr th:only-of-type {\n",
       "        vertical-align: middle;\n",
       "    }\n",
       "\n",
       "    .dataframe tbody tr th {\n",
       "        vertical-align: top;\n",
       "    }\n",
       "\n",
       "    .dataframe thead th {\n",
       "        text-align: right;\n",
       "    }\n",
       "</style>\n",
       "<table border=\"1\" class=\"dataframe\">\n",
       "  <thead>\n",
       "    <tr style=\"text-align: right;\">\n",
       "      <th></th>\n",
       "      <th>doc_id</th>\n",
       "      <th>passage</th>\n",
       "    </tr>\n",
       "  </thead>\n",
       "  <tbody>\n",
       "    <tr>\n",
       "      <th>0</th>\n",
       "      <td>0</td>\n",
       "      <td>the presence of communication amid scientific ...</td>\n",
       "    </tr>\n",
       "    <tr>\n",
       "      <th>1</th>\n",
       "      <td>1</td>\n",
       "      <td>the manhattan project and its atomic bomb help...</td>\n",
       "    </tr>\n",
       "    <tr>\n",
       "      <th>2</th>\n",
       "      <td>2</td>\n",
       "      <td>essay on the manhattan project - the manhattan...</td>\n",
       "    </tr>\n",
       "    <tr>\n",
       "      <th>3</th>\n",
       "      <td>3</td>\n",
       "      <td>the manhattan project was the name for a proje...</td>\n",
       "    </tr>\n",
       "    <tr>\n",
       "      <th>4</th>\n",
       "      <td>4</td>\n",
       "      <td>versions of each volume as well as complementa...</td>\n",
       "    </tr>\n",
       "  </tbody>\n",
       "</table>\n",
       "</div>"
      ],
      "text/plain": [
       "  doc_id                                            passage\n",
       "0      0  the presence of communication amid scientific ...\n",
       "1      1  the manhattan project and its atomic bomb help...\n",
       "2      2  essay on the manhattan project - the manhattan...\n",
       "3      3  the manhattan project was the name for a proje...\n",
       "4      4  versions of each volume as well as complementa..."
      ]
     },
     "execution_count": 37,
     "metadata": {},
     "output_type": "execute_result"
    }
   ],
   "source": [
    "documents.head()"
   ]
  },
  {
   "cell_type": "code",
   "execution_count": 18,
   "metadata": {},
   "outputs": [],
   "source": [
    "#documents = documents.drop(['passage'], axis = 1)"
   ]
  },
  {
   "cell_type": "code",
   "execution_count": 40,
   "metadata": {},
   "outputs": [],
   "source": [
    "#documents.to_csv(\"Documents_FasttextVectors_withoutPassage.csv\", index=False)"
   ]
  },
  {
   "cell_type": "code",
   "execution_count": 28,
   "metadata": {},
   "outputs": [
    {
     "name": "stdout",
     "output_type": "stream",
     "text": [
      "  doc_id                                            passage\n",
      "0      0  the presence of communication amid scientific ...\n",
      "1      1  the manhattan project and its atomic bomb help...\n",
      "2      2  essay on the manhattan project - the manhattan...\n",
      "3      3  the manhattan project was the name for a proje...\n",
      "4      4  versions of each volume as well as complementa...\n"
     ]
    }
   ],
   "source": [
    "print(documents.head())"
   ]
  },
  {
   "cell_type": "code",
   "execution_count": 38,
   "metadata": {},
   "outputs": [
    {
     "name": "stdout",
     "output_type": "stream",
     "text": [
      "        qid                                             vector\n",
      "0   1000005  [-0.00582499988, 0.0814249963, -0.0252250005, ...\n",
      "1   1000007  [-0.034874998, 0.0872249976, -0.0623999983, -0...\n",
      "2   1000008  [0.000274999999, 0.087349996, -0.0505999997, 0...\n",
      "3   1000009  [0.16909066, 0.12716744, 0.09672532, 0.1944896...\n",
      "4   1000010  [0.0204666667, 0.0631666705, -0.0222333353, -0...\n",
      "..      ...                                                ...\n",
      "95  1000154  [0.0368000045, 0.0254399981, -0.0241400003, -0...\n",
      "96  1000155  [0.00324000092, -0.00404000143, 0.0218599997, ...\n",
      "97  1000156  [0.072695575, 0.118829952, 0.0220951142, 0.162...\n",
      "98  1000160  [-0.00187500101, 0.0962999985, -0.0557250008, ...\n",
      "99  1000162  [0.019955555, 0.0489555523, -0.0441444442, -0....\n",
      "\n",
      "[100 rows x 2 columns]\n"
     ]
    }
   ],
   "source": [
    "import gc\n",
    "import re\n",
    "import pandas as pd\n",
    "# Returns the number of\n",
    "# objects it has collected\n",
    "# and deallocated\n",
    "collected = gc.collect()\n",
    "train_topics_100 = pd.read_csv(\"train_topics_100_fasttext_vectors.csv\", header = 0)\n",
    "train_topics_100 = train_topics_100.drop(['query'],axis=1)\n",
    "train_topics_100['vector'] = train_topics_100['vector'].map(lambda vec: ast.literal_eval(','.join(re.sub(r'(?<=\\d)(\\s+)(?=-?\\d)', ',', vec).splitlines())))\n",
    "print(train_topics_100)\n",
    "#y1 = y1.merge(documents[:800000], how='cross')\n",
    "y1 = 0"
   ]
  },
  {
   "cell_type": "code",
   "execution_count": 22,
   "metadata": {},
   "outputs": [],
   "source": [
    "#documents['vector'] = documents['vector'].map(lambda vec: ast.literal_eval(','.join(re.sub(r'(?<=\\d)(\\s+)(?=-?\\d)', ',', vec).splitlines())))"
   ]
  },
  {
   "cell_type": "code",
   "execution_count": 39,
   "metadata": {},
   "outputs": [],
   "source": [
    "from numpy import dot\n",
    "from numpy.linalg import norm\n",
    "\n",
    "import ast\n",
    "model = 0\n",
    "collected = gc.collect()\n",
    "def cosine(x,y):\n",
    "    return dot(x,y)/norm(x)/norm(y)\n",
    "\n",
    "#print(list(y1))\n",
    "#y1.progress_apply(lambda x: cosine(x['vector_x'], x['vector_y']), axis=1)"
   ]
  },
  {
   "cell_type": "code",
   "execution_count": 47,
   "metadata": {},
   "outputs": [
    {
     "name": "stdout",
     "output_type": "stream",
     "text": [
      "8300000 8400000\n"
     ]
    },
    {
     "data": {
      "application/vnd.jupyter.widget-view+json": {
       "model_id": "e691baa9d1b34bf9a23a772828e2bf14",
       "version_major": 2,
       "version_minor": 0
      },
      "text/plain": [
       "  0%|          | 0/100000 [00:00<?, ?it/s]"
      ]
     },
     "metadata": {},
     "output_type": "display_data"
    },
    {
     "name": "stderr",
     "output_type": "stream",
     "text": [
      "<ipython-input-47-5b7b2874b557>:11: SettingWithCopyWarning: \n",
      "A value is trying to be set on a copy of a slice from a DataFrame.\n",
      "Try using .loc[row_indexer,col_indexer] = value instead\n",
      "\n",
      "See the caveats in the documentation: https://pandas.pydata.org/pandas-docs/stable/user_guide/indexing.html#returning-a-view-versus-a-copy\n",
      "  doc_subset['vector'] = doc_subset['passage'].progress_apply(lambda x :get_embedding(x.split()))\n"
     ]
    },
    {
     "data": {
      "application/vnd.jupyter.widget-view+json": {
       "model_id": "df1f5999aca6404ea1fd5de18822089b",
       "version_major": 2,
       "version_minor": 0
      },
      "text/plain": [
       "  0%|          | 0/10000000 [00:00<?, ?it/s]"
      ]
     },
     "metadata": {},
     "output_type": "display_data"
    },
    {
     "name": "stdout",
     "output_type": "stream",
     "text": [
      "8400000 8500000\n"
     ]
    },
    {
     "data": {
      "application/vnd.jupyter.widget-view+json": {
       "model_id": "af67ff3b50a94a4ba908a31bba9035d0",
       "version_major": 2,
       "version_minor": 0
      },
      "text/plain": [
       "  0%|          | 0/100000 [00:00<?, ?it/s]"
      ]
     },
     "metadata": {},
     "output_type": "display_data"
    },
    {
     "data": {
      "application/vnd.jupyter.widget-view+json": {
       "model_id": "fcefc05a37934902a715e4fa639d60cb",
       "version_major": 2,
       "version_minor": 0
      },
      "text/plain": [
       "  0%|          | 0/10000000 [00:00<?, ?it/s]"
      ]
     },
     "metadata": {},
     "output_type": "display_data"
    },
    {
     "name": "stdout",
     "output_type": "stream",
     "text": [
      "8500000 8600000\n"
     ]
    },
    {
     "data": {
      "application/vnd.jupyter.widget-view+json": {
       "model_id": "79862afd269940e4bc6d54a152434401",
       "version_major": 2,
       "version_minor": 0
      },
      "text/plain": [
       "  0%|          | 0/100000 [00:00<?, ?it/s]"
      ]
     },
     "metadata": {},
     "output_type": "display_data"
    },
    {
     "data": {
      "application/vnd.jupyter.widget-view+json": {
       "model_id": "6f46075784f641e49d273cf9a4b6714b",
       "version_major": 2,
       "version_minor": 0
      },
      "text/plain": [
       "  0%|          | 0/10000000 [00:00<?, ?it/s]"
      ]
     },
     "metadata": {},
     "output_type": "display_data"
    },
    {
     "name": "stdout",
     "output_type": "stream",
     "text": [
      "8600000 8700000\n"
     ]
    },
    {
     "data": {
      "application/vnd.jupyter.widget-view+json": {
       "model_id": "bbe4a30eb7f44bada1e377cf9876b099",
       "version_major": 2,
       "version_minor": 0
      },
      "text/plain": [
       "  0%|          | 0/100000 [00:00<?, ?it/s]"
      ]
     },
     "metadata": {},
     "output_type": "display_data"
    },
    {
     "data": {
      "application/vnd.jupyter.widget-view+json": {
       "model_id": "aef923446fdb418fb1efb77b6056b0b9",
       "version_major": 2,
       "version_minor": 0
      },
      "text/plain": [
       "  0%|          | 0/10000000 [00:00<?, ?it/s]"
      ]
     },
     "metadata": {},
     "output_type": "display_data"
    },
    {
     "name": "stdout",
     "output_type": "stream",
     "text": [
      "8700000 8800000\n"
     ]
    },
    {
     "data": {
      "application/vnd.jupyter.widget-view+json": {
       "model_id": "3088ffe486a04a59b0ebc1b79934adbb",
       "version_major": 2,
       "version_minor": 0
      },
      "text/plain": [
       "  0%|          | 0/100000 [00:00<?, ?it/s]"
      ]
     },
     "metadata": {},
     "output_type": "display_data"
    },
    {
     "data": {
      "application/vnd.jupyter.widget-view+json": {
       "model_id": "fe9334435c0244b6ba007608135c80fb",
       "version_major": 2,
       "version_minor": 0
      },
      "text/plain": [
       "  0%|          | 0/10000000 [00:00<?, ?it/s]"
      ]
     },
     "metadata": {},
     "output_type": "display_data"
    },
    {
     "name": "stdout",
     "output_type": "stream",
     "text": [
      "8800000 8841823\n"
     ]
    },
    {
     "data": {
      "application/vnd.jupyter.widget-view+json": {
       "model_id": "9d38dd1af7be43919343c6bf7fba45c5",
       "version_major": 2,
       "version_minor": 0
      },
      "text/plain": [
       "  0%|          | 0/41823 [00:00<?, ?it/s]"
      ]
     },
     "metadata": {},
     "output_type": "display_data"
    },
    {
     "data": {
      "application/vnd.jupyter.widget-view+json": {
       "model_id": "b8879aa6492d4a9aa19fab634059f1ba",
       "version_major": 2,
       "version_minor": 0
      },
      "text/plain": [
       "  0%|          | 0/4182300 [00:00<?, ?it/s]"
      ]
     },
     "metadata": {},
     "output_type": "display_data"
    }
   ],
   "source": [
    "from tqdm.notebook import tqdm\n",
    "tqdm.pandas()\n",
    "batch = 100000\n",
    "start = 8300000\n",
    "for i in range(start,len(documents),batch):\n",
    "    up = min(i+batch, len(documents))\n",
    "    print(i, up)\n",
    "    name = \"doc_vec_fastext\" + str(i) + \"-\" + str(up)\n",
    "    doc_subset = documents[i:up]\n",
    "    #print(type(doc_subset), doc_subset[:10])\n",
    "    doc_subset['vector'] = doc_subset['passage'].progress_apply(lambda x :get_embedding(x.split()))\n",
    "    doc_subset = doc_subset.drop(['passage'],axis=1)\n",
    "    y1 = train_topics_100.merge(doc_subset, how='cross')\n",
    "    doc_subset = 0\n",
    "    #print(y1)\n",
    "    y1['cosine'] = y1.progress_apply(lambda x: cosine(x['vector_x'], x['vector_y']), axis=1)\n",
    "    y1 = y1.drop(['vector_x','vector_y'], axis=1)\n",
    "    y1.to_csv(name, index=False)"
   ]
  },
  {
   "cell_type": "code",
   "execution_count": 50,
   "metadata": {},
   "outputs": [],
   "source": []
  }
 ],
 "metadata": {
  "colab": {
   "name": "ComputeSimilarity.ipynb",
   "provenance": []
  },
  "kernelspec": {
   "display_name": "Python 3",
   "language": "python",
   "name": "python3"
  },
  "language_info": {
   "codemirror_mode": {
    "name": "ipython",
    "version": 3
   },
   "file_extension": ".py",
   "mimetype": "text/x-python",
   "name": "python",
   "nbconvert_exporter": "python",
   "pygments_lexer": "ipython3",
   "version": "3.8.8"
  },
  "widgets": {
   "application/vnd.jupyter.widget-state+json": {
    "3d5d6dda2c454fa1b6874b07832532d0": {
     "model_module": "@jupyter-widgets/controls",
     "model_module_version": "1.5.0",
     "model_name": "HTMLModel",
     "state": {
      "_dom_classes": [],
      "_model_module": "@jupyter-widgets/controls",
      "_model_module_version": "1.5.0",
      "_model_name": "HTMLModel",
      "_view_count": null,
      "_view_module": "@jupyter-widgets/controls",
      "_view_module_version": "1.5.0",
      "_view_name": "HTMLView",
      "description": "",
      "description_tooltip": null,
      "layout": "IPY_MODEL_de0b3d63791e423eaa4e890bbbe4d7f8",
      "placeholder": "​",
      "style": "IPY_MODEL_6b8a2a54bb4a4cd7abe23e23b074a35d",
      "value": " 987M/987M [02:19&lt;00:00, 5.40MiB/s]"
     }
    },
    "4e20e5443a3a4c3cbf0f6864b7a62f95": {
     "model_module": "@jupyter-widgets/controls",
     "model_module_version": "1.5.0",
     "model_name": "FloatProgressModel",
     "state": {
      "_dom_classes": [],
      "_model_module": "@jupyter-widgets/controls",
      "_model_module_version": "1.5.0",
      "_model_name": "FloatProgressModel",
      "_view_count": null,
      "_view_module": "@jupyter-widgets/controls",
      "_view_module_version": "1.5.0",
      "_view_name": "ProgressView",
      "bar_style": "success",
      "description": "",
      "description_tooltip": null,
      "layout": "IPY_MODEL_a53a4a64669d4da1b98e62c859e303be",
      "max": 1035009698,
      "min": 0,
      "orientation": "horizontal",
      "style": "IPY_MODEL_586d858fa2b04388847593e77384acbf",
      "value": 1035009698
     }
    },
    "5733de7ee0314f6ba396c0e5f946b5e3": {
     "model_module": "@jupyter-widgets/controls",
     "model_module_version": "1.5.0",
     "model_name": "HBoxModel",
     "state": {
      "_dom_classes": [],
      "_model_module": "@jupyter-widgets/controls",
      "_model_module_version": "1.5.0",
      "_model_name": "HBoxModel",
      "_view_count": null,
      "_view_module": "@jupyter-widgets/controls",
      "_view_module_version": "1.5.0",
      "_view_name": "HBoxView",
      "box_style": "",
      "children": [
       "IPY_MODEL_5e5dad267dc442b594a23042e0cef740",
       "IPY_MODEL_4e20e5443a3a4c3cbf0f6864b7a62f95",
       "IPY_MODEL_3d5d6dda2c454fa1b6874b07832532d0"
      ],
      "layout": "IPY_MODEL_f382d027c3da45c6ab81f034343e0864"
     }
    },
    "586d858fa2b04388847593e77384acbf": {
     "model_module": "@jupyter-widgets/controls",
     "model_module_version": "1.5.0",
     "model_name": "ProgressStyleModel",
     "state": {
      "_model_module": "@jupyter-widgets/controls",
      "_model_module_version": "1.5.0",
      "_model_name": "ProgressStyleModel",
      "_view_count": null,
      "_view_module": "@jupyter-widgets/base",
      "_view_module_version": "1.2.0",
      "_view_name": "StyleView",
      "bar_color": null,
      "description_width": ""
     }
    },
    "5e5dad267dc442b594a23042e0cef740": {
     "model_module": "@jupyter-widgets/controls",
     "model_module_version": "1.5.0",
     "model_name": "HTMLModel",
     "state": {
      "_dom_classes": [],
      "_model_module": "@jupyter-widgets/controls",
      "_model_module_version": "1.5.0",
      "_model_name": "HTMLModel",
      "_view_count": null,
      "_view_module": "@jupyter-widgets/controls",
      "_view_module_version": "1.5.0",
      "_view_name": "HTMLView",
      "description": "",
      "description_tooltip": null,
      "layout": "IPY_MODEL_f668f0b13e1a4cff80898517c141c567",
      "placeholder": "​",
      "style": "IPY_MODEL_aeaecedbe89b4fccbbd2a3638ed603d1",
      "value": "collection.tar.gz: 100%"
     }
    },
    "6b8a2a54bb4a4cd7abe23e23b074a35d": {
     "model_module": "@jupyter-widgets/controls",
     "model_module_version": "1.5.0",
     "model_name": "DescriptionStyleModel",
     "state": {
      "_model_module": "@jupyter-widgets/controls",
      "_model_module_version": "1.5.0",
      "_model_name": "DescriptionStyleModel",
      "_view_count": null,
      "_view_module": "@jupyter-widgets/base",
      "_view_module_version": "1.2.0",
      "_view_name": "StyleView",
      "description_width": ""
     }
    },
    "a53a4a64669d4da1b98e62c859e303be": {
     "model_module": "@jupyter-widgets/base",
     "model_module_version": "1.2.0",
     "model_name": "LayoutModel",
     "state": {
      "_model_module": "@jupyter-widgets/base",
      "_model_module_version": "1.2.0",
      "_model_name": "LayoutModel",
      "_view_count": null,
      "_view_module": "@jupyter-widgets/base",
      "_view_module_version": "1.2.0",
      "_view_name": "LayoutView",
      "align_content": null,
      "align_items": null,
      "align_self": null,
      "border": null,
      "bottom": null,
      "display": null,
      "flex": null,
      "flex_flow": null,
      "grid_area": null,
      "grid_auto_columns": null,
      "grid_auto_flow": null,
      "grid_auto_rows": null,
      "grid_column": null,
      "grid_gap": null,
      "grid_row": null,
      "grid_template_areas": null,
      "grid_template_columns": null,
      "grid_template_rows": null,
      "height": null,
      "justify_content": null,
      "justify_items": null,
      "left": null,
      "margin": null,
      "max_height": null,
      "max_width": null,
      "min_height": null,
      "min_width": null,
      "object_fit": null,
      "object_position": null,
      "order": null,
      "overflow": null,
      "overflow_x": null,
      "overflow_y": null,
      "padding": null,
      "right": null,
      "top": null,
      "visibility": null,
      "width": null
     }
    },
    "aeaecedbe89b4fccbbd2a3638ed603d1": {
     "model_module": "@jupyter-widgets/controls",
     "model_module_version": "1.5.0",
     "model_name": "DescriptionStyleModel",
     "state": {
      "_model_module": "@jupyter-widgets/controls",
      "_model_module_version": "1.5.0",
      "_model_name": "DescriptionStyleModel",
      "_view_count": null,
      "_view_module": "@jupyter-widgets/base",
      "_view_module_version": "1.2.0",
      "_view_name": "StyleView",
      "description_width": ""
     }
    },
    "de0b3d63791e423eaa4e890bbbe4d7f8": {
     "model_module": "@jupyter-widgets/base",
     "model_module_version": "1.2.0",
     "model_name": "LayoutModel",
     "state": {
      "_model_module": "@jupyter-widgets/base",
      "_model_module_version": "1.2.0",
      "_model_name": "LayoutModel",
      "_view_count": null,
      "_view_module": "@jupyter-widgets/base",
      "_view_module_version": "1.2.0",
      "_view_name": "LayoutView",
      "align_content": null,
      "align_items": null,
      "align_self": null,
      "border": null,
      "bottom": null,
      "display": null,
      "flex": null,
      "flex_flow": null,
      "grid_area": null,
      "grid_auto_columns": null,
      "grid_auto_flow": null,
      "grid_auto_rows": null,
      "grid_column": null,
      "grid_gap": null,
      "grid_row": null,
      "grid_template_areas": null,
      "grid_template_columns": null,
      "grid_template_rows": null,
      "height": null,
      "justify_content": null,
      "justify_items": null,
      "left": null,
      "margin": null,
      "max_height": null,
      "max_width": null,
      "min_height": null,
      "min_width": null,
      "object_fit": null,
      "object_position": null,
      "order": null,
      "overflow": null,
      "overflow_x": null,
      "overflow_y": null,
      "padding": null,
      "right": null,
      "top": null,
      "visibility": null,
      "width": null
     }
    },
    "f382d027c3da45c6ab81f034343e0864": {
     "model_module": "@jupyter-widgets/base",
     "model_module_version": "1.2.0",
     "model_name": "LayoutModel",
     "state": {
      "_model_module": "@jupyter-widgets/base",
      "_model_module_version": "1.2.0",
      "_model_name": "LayoutModel",
      "_view_count": null,
      "_view_module": "@jupyter-widgets/base",
      "_view_module_version": "1.2.0",
      "_view_name": "LayoutView",
      "align_content": null,
      "align_items": null,
      "align_self": null,
      "border": null,
      "bottom": null,
      "display": null,
      "flex": null,
      "flex_flow": null,
      "grid_area": null,
      "grid_auto_columns": null,
      "grid_auto_flow": null,
      "grid_auto_rows": null,
      "grid_column": null,
      "grid_gap": null,
      "grid_row": null,
      "grid_template_areas": null,
      "grid_template_columns": null,
      "grid_template_rows": null,
      "height": null,
      "justify_content": null,
      "justify_items": null,
      "left": null,
      "margin": null,
      "max_height": null,
      "max_width": null,
      "min_height": null,
      "min_width": null,
      "object_fit": null,
      "object_position": null,
      "order": null,
      "overflow": null,
      "overflow_x": null,
      "overflow_y": null,
      "padding": null,
      "right": null,
      "top": null,
      "visibility": null,
      "width": null
     }
    },
    "f668f0b13e1a4cff80898517c141c567": {
     "model_module": "@jupyter-widgets/base",
     "model_module_version": "1.2.0",
     "model_name": "LayoutModel",
     "state": {
      "_model_module": "@jupyter-widgets/base",
      "_model_module_version": "1.2.0",
      "_model_name": "LayoutModel",
      "_view_count": null,
      "_view_module": "@jupyter-widgets/base",
      "_view_module_version": "1.2.0",
      "_view_name": "LayoutView",
      "align_content": null,
      "align_items": null,
      "align_self": null,
      "border": null,
      "bottom": null,
      "display": null,
      "flex": null,
      "flex_flow": null,
      "grid_area": null,
      "grid_auto_columns": null,
      "grid_auto_flow": null,
      "grid_auto_rows": null,
      "grid_column": null,
      "grid_gap": null,
      "grid_row": null,
      "grid_template_areas": null,
      "grid_template_columns": null,
      "grid_template_rows": null,
      "height": null,
      "justify_content": null,
      "justify_items": null,
      "left": null,
      "margin": null,
      "max_height": null,
      "max_width": null,
      "min_height": null,
      "min_width": null,
      "object_fit": null,
      "object_position": null,
      "order": null,
      "overflow": null,
      "overflow_x": null,
      "overflow_y": null,
      "padding": null,
      "right": null,
      "top": null,
      "visibility": null,
      "width": null
     }
    }
   }
  }
 },
 "nbformat": 4,
 "nbformat_minor": 1
}
