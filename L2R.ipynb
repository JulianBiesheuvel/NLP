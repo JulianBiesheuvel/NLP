{
 "cells": [
  {
   "cell_type": "code",
   "execution_count": 1,
   "metadata": {
    "collapsed": true
   },
   "outputs": [
    {
     "name": "stderr",
     "output_type": "stream",
     "text": [
      "PyTerrier 0.8.0 has loaded Terrier 5.6 (built by craigmacdonald on 2021-09-17 13:27)\n",
      "\n"
     ]
    }
   ],
   "source": [
    "# Import all the needed libraries\n",
    "import pyterrier as pt\n",
    "import pandas as pd\n",
    "from tqdm import tqdm\n",
    "import numpy as np\n",
    "import matplotlib.pyplot as plt\n",
    "import os\n",
    "import time\n",
    "from sklearn.ensemble import RandomForestRegressor\n",
    "if not pt.started():\n",
    "    pt.init()"
   ]
  },
  {
   "cell_type": "code",
   "execution_count": 3,
   "outputs": [
    {
     "name": "stdout",
     "output_type": "stream",
     "text": [
      "09:01:15.712 [main] WARN org.terrier.structures.BaseCompressingMetaIndex - Structure meta reading data file directly from disk (SLOW) - try index.meta.data-source=fileinmem in the index properties file. 1,9 GiB of memory would be required.\r\n",
      "09:01:15.727 [main] WARN org.terrier.applications.batchquerying.TRECQuery - trec.encoding is not set; resorting to platform default (windows-1252). Retrieval may be platform dependent. Recommend trec.encoding=UTF-8\r\n"
     ]
    }
   ],
   "source": [
    "# Load the dataset\n",
    "dataset = pt.datasets.get_dataset(\"trec-deep-learning-passages\")\n",
    "\n",
    "index_ref = pt.IndexRef.of(os.getcwd() + \"./passage_index/data.properties\")\n",
    "\n",
    "index = pt.IndexFactory.of(index_ref)\n",
    "\n",
    "pipeline = pt.FeaturesBatchRetrieve(index, wmodel=\"BM25\", features=[\"WMODEL:Tf\", \"WMODEL:PL2\", \"WMODEL:GloVe\"])\n",
    "\n",
    "train_topics = dataset.get_topics(\"train\")\n",
    "train_qrels = dataset.get_qrels(\"train\")"
   ],
   "metadata": {
    "collapsed": false,
    "pycharm": {
     "name": "#%%\n"
    }
   }
  },
  {
   "cell_type": "code",
   "execution_count": 4,
   "outputs": [],
   "source": [
    "train_topics = train_topics.sort_values(by='qid', ascending=True)[3:]\n",
    "train_qrels = train_qrels.sort_values(by='qid', ascending=True)[3:]"
   ],
   "metadata": {
    "collapsed": false,
    "pycharm": {
     "name": "#%%\n"
    }
   }
  },
  {
   "cell_type": "code",
   "execution_count": 5,
   "outputs": [],
   "source": [
    "# A simple join operation on the qids, as we have much more queries than qrels, we want to only use those\n",
    "# queries with a qrel for optimal training performances.\n",
    "temp = pd.merge(train_topics, train_qrels, left_on='qid', right_on='qid')\n",
    "\n",
    "# Make the new train_topics dataframe with only those queries that have a qrel\n",
    "train_topics_100 = pd.concat([temp['qid'], temp['query']], axis=1, keys=['qid', 'query'])"
   ],
   "metadata": {
    "collapsed": false,
    "pycharm": {
     "name": "#%%\n"
    }
   }
  },
  {
   "cell_type": "code",
   "execution_count": 6,
   "outputs": [],
   "source": [
    "train_qrel_100 = pd.concat([temp['qid'], temp['docno'], temp['label']], axis=1, keys=['qid', 'docno', 'label'])"
   ],
   "metadata": {
    "collapsed": false,
    "pycharm": {
     "name": "#%%\n"
    }
   }
  },
  {
   "cell_type": "code",
   "execution_count": 7,
   "outputs": [
    {
     "data": {
      "text/plain": "           qid      pid     cdist\n0      1000005  7871705  0.888864\n1      1000005  8564649  0.906684\n2      1000005  8564641  0.936021\n3      1000005  1170305  0.866449\n4      1000005   635918  0.853606\n...        ...      ...       ...\n90995  1000162   252483  0.829435\n90996  1000162  1005526  0.837253\n90997  1000162  2229864  0.846573\n90998  1000162  2313262  0.752206\n90999  1000162  2337785  0.891928\n\n[91000 rows x 3 columns]",
      "text/html": "<div>\n<style scoped>\n    .dataframe tbody tr th:only-of-type {\n        vertical-align: middle;\n    }\n\n    .dataframe tbody tr th {\n        vertical-align: top;\n    }\n\n    .dataframe thead th {\n        text-align: right;\n    }\n</style>\n<table border=\"1\" class=\"dataframe\">\n  <thead>\n    <tr style=\"text-align: right;\">\n      <th></th>\n      <th>qid</th>\n      <th>pid</th>\n      <th>cdist</th>\n    </tr>\n  </thead>\n  <tbody>\n    <tr>\n      <th>0</th>\n      <td>1000005</td>\n      <td>7871705</td>\n      <td>0.888864</td>\n    </tr>\n    <tr>\n      <th>1</th>\n      <td>1000005</td>\n      <td>8564649</td>\n      <td>0.906684</td>\n    </tr>\n    <tr>\n      <th>2</th>\n      <td>1000005</td>\n      <td>8564641</td>\n      <td>0.936021</td>\n    </tr>\n    <tr>\n      <th>3</th>\n      <td>1000005</td>\n      <td>1170305</td>\n      <td>0.866449</td>\n    </tr>\n    <tr>\n      <th>4</th>\n      <td>1000005</td>\n      <td>635918</td>\n      <td>0.853606</td>\n    </tr>\n    <tr>\n      <th>...</th>\n      <td>...</td>\n      <td>...</td>\n      <td>...</td>\n    </tr>\n    <tr>\n      <th>90995</th>\n      <td>1000162</td>\n      <td>252483</td>\n      <td>0.829435</td>\n    </tr>\n    <tr>\n      <th>90996</th>\n      <td>1000162</td>\n      <td>1005526</td>\n      <td>0.837253</td>\n    </tr>\n    <tr>\n      <th>90997</th>\n      <td>1000162</td>\n      <td>2229864</td>\n      <td>0.846573</td>\n    </tr>\n    <tr>\n      <th>90998</th>\n      <td>1000162</td>\n      <td>2313262</td>\n      <td>0.752206</td>\n    </tr>\n    <tr>\n      <th>90999</th>\n      <td>1000162</td>\n      <td>2337785</td>\n      <td>0.891928</td>\n    </tr>\n  </tbody>\n</table>\n<p>91000 rows × 3 columns</p>\n</div>"
     },
     "execution_count": 7,
     "metadata": {},
     "output_type": "execute_result"
    }
   ],
   "source": [
    "final_df_train = pd.read_csv('final_df.csv')\n",
    "final_df_train"
   ],
   "metadata": {
    "collapsed": false,
    "pycharm": {
     "name": "#%%\n"
    }
   }
  },
  {
   "cell_type": "code",
   "execution_count": 8,
   "outputs": [
    {
     "data": {
      "text/plain": "          qid      pid     cdist\n0      156493  8182161  0.770682\n1      156493  6139386  0.753413\n2      156493  3288600  0.785007\n3      156493  3288596  0.762550\n4      156493  2259183  0.740538\n...       ...      ...       ...\n41995  146187  4239826  0.809611\n41996  146187  4874233  0.784742\n41997  146187  6065118  0.879775\n41998  146187  7392175  0.709208\n41999  146187   135239  0.838686\n\n[42000 rows x 3 columns]",
      "text/html": "<div>\n<style scoped>\n    .dataframe tbody tr th:only-of-type {\n        vertical-align: middle;\n    }\n\n    .dataframe tbody tr th {\n        vertical-align: top;\n    }\n\n    .dataframe thead th {\n        text-align: right;\n    }\n</style>\n<table border=\"1\" class=\"dataframe\">\n  <thead>\n    <tr style=\"text-align: right;\">\n      <th></th>\n      <th>qid</th>\n      <th>pid</th>\n      <th>cdist</th>\n    </tr>\n  </thead>\n  <tbody>\n    <tr>\n      <th>0</th>\n      <td>156493</td>\n      <td>8182161</td>\n      <td>0.770682</td>\n    </tr>\n    <tr>\n      <th>1</th>\n      <td>156493</td>\n      <td>6139386</td>\n      <td>0.753413</td>\n    </tr>\n    <tr>\n      <th>2</th>\n      <td>156493</td>\n      <td>3288600</td>\n      <td>0.785007</td>\n    </tr>\n    <tr>\n      <th>3</th>\n      <td>156493</td>\n      <td>3288596</td>\n      <td>0.762550</td>\n    </tr>\n    <tr>\n      <th>4</th>\n      <td>156493</td>\n      <td>2259183</td>\n      <td>0.740538</td>\n    </tr>\n    <tr>\n      <th>...</th>\n      <td>...</td>\n      <td>...</td>\n      <td>...</td>\n    </tr>\n    <tr>\n      <th>41995</th>\n      <td>146187</td>\n      <td>4239826</td>\n      <td>0.809611</td>\n    </tr>\n    <tr>\n      <th>41996</th>\n      <td>146187</td>\n      <td>4874233</td>\n      <td>0.784742</td>\n    </tr>\n    <tr>\n      <th>41997</th>\n      <td>146187</td>\n      <td>6065118</td>\n      <td>0.879775</td>\n    </tr>\n    <tr>\n      <th>41998</th>\n      <td>146187</td>\n      <td>7392175</td>\n      <td>0.709208</td>\n    </tr>\n    <tr>\n      <th>41999</th>\n      <td>146187</td>\n      <td>135239</td>\n      <td>0.838686</td>\n    </tr>\n  </tbody>\n</table>\n<p>42000 rows × 3 columns</p>\n</div>"
     },
     "execution_count": 8,
     "metadata": {},
     "output_type": "execute_result"
    }
   ],
   "source": [
    "final_df_test = pd.read_csv('final_df_test.csv')\n",
    "final_df_test"
   ],
   "metadata": {
    "collapsed": false,
    "pycharm": {
     "name": "#%%\n"
    }
   }
  },
  {
   "cell_type": "code",
   "execution_count": 9,
   "outputs": [
    {
     "data": {
      "text/plain": "           qid      pid     cdist\n0      1000005  7871705  0.888864\n1      1000005  8564649  0.906684\n2      1000005  8564641  0.936021\n3      1000005  1170305  0.866449\n4      1000005   635918  0.853606\n...        ...      ...       ...\n41995   146187  4239826  0.809611\n41996   146187  4874233  0.784742\n41997   146187  6065118  0.879775\n41998   146187  7392175  0.709208\n41999   146187   135239  0.838686\n\n[133000 rows x 3 columns]",
      "text/html": "<div>\n<style scoped>\n    .dataframe tbody tr th:only-of-type {\n        vertical-align: middle;\n    }\n\n    .dataframe tbody tr th {\n        vertical-align: top;\n    }\n\n    .dataframe thead th {\n        text-align: right;\n    }\n</style>\n<table border=\"1\" class=\"dataframe\">\n  <thead>\n    <tr style=\"text-align: right;\">\n      <th></th>\n      <th>qid</th>\n      <th>pid</th>\n      <th>cdist</th>\n    </tr>\n  </thead>\n  <tbody>\n    <tr>\n      <th>0</th>\n      <td>1000005</td>\n      <td>7871705</td>\n      <td>0.888864</td>\n    </tr>\n    <tr>\n      <th>1</th>\n      <td>1000005</td>\n      <td>8564649</td>\n      <td>0.906684</td>\n    </tr>\n    <tr>\n      <th>2</th>\n      <td>1000005</td>\n      <td>8564641</td>\n      <td>0.936021</td>\n    </tr>\n    <tr>\n      <th>3</th>\n      <td>1000005</td>\n      <td>1170305</td>\n      <td>0.866449</td>\n    </tr>\n    <tr>\n      <th>4</th>\n      <td>1000005</td>\n      <td>635918</td>\n      <td>0.853606</td>\n    </tr>\n    <tr>\n      <th>...</th>\n      <td>...</td>\n      <td>...</td>\n      <td>...</td>\n    </tr>\n    <tr>\n      <th>41995</th>\n      <td>146187</td>\n      <td>4239826</td>\n      <td>0.809611</td>\n    </tr>\n    <tr>\n      <th>41996</th>\n      <td>146187</td>\n      <td>4874233</td>\n      <td>0.784742</td>\n    </tr>\n    <tr>\n      <th>41997</th>\n      <td>146187</td>\n      <td>6065118</td>\n      <td>0.879775</td>\n    </tr>\n    <tr>\n      <th>41998</th>\n      <td>146187</td>\n      <td>7392175</td>\n      <td>0.709208</td>\n    </tr>\n    <tr>\n      <th>41999</th>\n      <td>146187</td>\n      <td>135239</td>\n      <td>0.838686</td>\n    </tr>\n  </tbody>\n</table>\n<p>133000 rows × 3 columns</p>\n</div>"
     },
     "execution_count": 9,
     "metadata": {},
     "output_type": "execute_result"
    }
   ],
   "source": [
    "complete = pd.concat([final_df_train, final_df_test])\n",
    "complete"
   ],
   "metadata": {
    "collapsed": false,
    "pycharm": {
     "name": "#%%\n"
    }
   }
  },
  {
   "cell_type": "code",
   "execution_count": 59,
   "outputs": [],
   "source": [
    "def features(row):\n",
    "    val = np.array(complete.loc[(complete['qid'] == int(row['qid'])) & (complete['pid'] == int(row['docid']))]['cdist'].tolist())\n",
    "    if len(val) == 0:\n",
    "        return np.array([0])\n",
    "    return val"
   ],
   "metadata": {
    "collapsed": false,
    "pycharm": {
     "name": "#%%\n"
    }
   }
  },
  {
   "cell_type": "code",
   "execution_count": 60,
   "outputs": [],
   "source": [
    "# This method is used to give a new score to a document.\n",
    "# In particular, it this notebook it is used to sum the bm25 score with the distilBERT score,\n",
    "# which is multiplied by a certain factor to make it more compatible with the range of bm25 scores\n",
    "\n",
    "def scores(row):\n",
    "    val = np.array(complete.loc[(complete['qid'] == int(row['qid'])) & (complete['pid'] == int(row['docid']))]['cdist'].tolist())\n",
    "    if len(val) == 0:\n",
    "        return np.array([0])\n",
    "\n",
    "    new_score = row['score'] + float(val)*10\n",
    "\n",
    "    return new_score"
   ],
   "metadata": {
    "collapsed": false,
    "pycharm": {
     "name": "#%%\n"
    }
   }
  },
  {
   "cell_type": "code",
   "execution_count": 92,
   "outputs": [],
   "source": [
    "bm25 = pt.BatchRetrieve(index, wmodel=\"BM25\")\n",
    "tf = pt.BatchRetrieve(index, wmodel=\"Tf\")\n",
    "pl2 = pt.BatchRetrieve(index, wmodel=\"PL2\")\n",
    "pipeline = bm25 >> (pt.apply.doc_features(features) ** tf ** pl2)\n",
    "L2R = bm25 >> (tf ** pl2)\n",
    "summation = bm25 >> pt.apply.doc_score(scores)\n",
    "\n",
    "df = complete.copy()\n",
    "df['qid'] = df['qid'].astype(str)\n",
    "df['doc_id'] = df['pid'].astype(str)\n",
    "df['score'] = df['cdist'].astype(str)\n",
    "\n",
    "glove = pt.Transformer.from_df(df)"
   ],
   "metadata": {
    "collapsed": false,
    "pycharm": {
     "name": "#%%\n"
    }
   }
  },
  {
   "cell_type": "code",
   "execution_count": 86,
   "outputs": [
    {
     "name": "stdout",
     "output_type": "stream",
     "text": [
      "11343.447141647339\n"
     ]
    }
   ],
   "source": [
    "start = time.time()\n",
    "\n",
    "rf_complete = RandomForestRegressor(n_estimators=300)\n",
    "rf_pipe_complete = pipeline >> pt.ltr.apply_learned_model(rf_complete)\n",
    "rf_pipe_complete.fit(train_topics_100.head(100), train_qrel_100.head(100))\n",
    "\n",
    "end = time.time()\n",
    "\n",
    "print(end - start)"
   ],
   "metadata": {
    "collapsed": false,
    "pycharm": {
     "name": "#%%\n"
    }
   }
  },
  {
   "cell_type": "code",
   "execution_count": 87,
   "outputs": [],
   "source": [
    "import pickle"
   ],
   "metadata": {
    "collapsed": false,
    "pycharm": {
     "name": "#%%\n"
    }
   }
  },
  {
   "cell_type": "code",
   "execution_count": 88,
   "outputs": [],
   "source": [
    "# save the model to disk\n",
    "filename = 'rf_pipe_complete_300trees_100queries_noflag.sav'\n",
    "pickle.dump(rf_pipe_complete, open(filename, 'wb'))"
   ],
   "metadata": {
    "collapsed": false,
    "pycharm": {
     "name": "#%%\n"
    }
   }
  },
  {
   "cell_type": "code",
   "execution_count": null,
   "outputs": [],
   "source": [
    "# For when you run out of RAM: https://stackoverflow.com/questions/36137671/pycharm-running-out-of-memory"
   ],
   "metadata": {
    "collapsed": false,
    "pycharm": {
     "name": "#%%\n"
    }
   }
  },
  {
   "cell_type": "code",
   "execution_count": 93,
   "outputs": [
    {
     "name": "stdout",
     "output_type": "stream",
     "text": [
      "190.03120493888855\n"
     ]
    }
   ],
   "source": [
    "# Just L2R\n",
    "\n",
    "start = time.time()\n",
    "\n",
    "rf_L2R = RandomForestRegressor(n_estimators=300)\n",
    "pipe_rf_L2R = L2R >> pt.ltr.apply_learned_model(rf_L2R)\n",
    "pipe_rf_L2R.fit(train_topics_100.head(100), train_qrel_100.head(100))\n",
    "\n",
    "end = time.time()\n",
    "print(end - start)"
   ],
   "metadata": {
    "collapsed": false,
    "pycharm": {
     "name": "#%%\n"
    }
   }
  },
  {
   "cell_type": "code",
   "execution_count": 81,
   "outputs": [],
   "source": [
    "filename = 'rf_L2R_300trees_100queries.sav'\n",
    "pickle.dump(pipe_rf_L2R, open(filename, 'wb'))"
   ],
   "metadata": {
    "collapsed": false,
    "pycharm": {
     "name": "#%%\n"
    }
   }
  },
  {
   "cell_type": "code",
   "execution_count": 77,
   "outputs": [],
   "source": [
    "start = time.time()"
   ],
   "metadata": {
    "collapsed": false,
    "pycharm": {
     "name": "#%%\n"
    }
   }
  },
  {
   "cell_type": "code",
   "execution_count": null,
   "outputs": [],
   "source": [
    "pt.Experiment([pipe_rf_L2R], dataset.get_topics(\"test-2019\"),\n",
    "              dataset.get_qrels(\"test-2019\"), eval_metrics=[\"ndcg\", \"map\", \"recip_rank\"], names=[\"LTR\"])"
   ],
   "metadata": {
    "collapsed": false,
    "pycharm": {
     "name": "#%%\n",
     "is_executing": true
    }
   }
  },
  {
   "cell_type": "code",
   "execution_count": null,
   "outputs": [],
   "source": [
    "end = time.time()\n",
    "print(end - start)"
   ],
   "metadata": {
    "collapsed": false,
    "pycharm": {
     "name": "#%%\n",
     "is_executing": true
    }
   }
  },
  {
   "cell_type": "code",
   "execution_count": null,
   "outputs": [],
   "source": [
    "# load the model from disk\n",
    "# rf_pipe_complete = pickle.load(open('finalized_model_100que_300for.sav', 'rb'))"
   ],
   "metadata": {
    "collapsed": false,
    "pycharm": {
     "name": "#%%\n",
     "is_executing": true
    }
   }
  },
  {
   "cell_type": "code",
   "execution_count": 89,
   "outputs": [],
   "source": [
    "start = time.time()"
   ],
   "metadata": {
    "collapsed": false,
    "pycharm": {
     "name": "#%%\n"
    }
   }
  },
  {
   "cell_type": "code",
   "execution_count": 90,
   "outputs": [
    {
     "name": "stdout",
     "output_type": "stream",
     "text": [
      "18:31:34.357 [main] WARN org.terrier.applications.batchquerying.TRECQuery - trec.encoding is not set; resorting to platform default (windows-1252). Retrieval may be platform dependent. Recommend trec.encoding=UTF-8\r\n"
     ]
    },
    {
     "data": {
      "text/plain": "    name       map      ndcg  recip_rank\n0   bm25  0.370004  0.593433    0.795028\n1    L2R  0.119847  0.432649    0.524127\n2   L2R+  0.118282  0.430317    0.492220\n3    sum  0.085160  0.374265    0.173978\n4  GloVe  0.050179  0.326222    0.072101",
      "text/html": "<div>\n<style scoped>\n    .dataframe tbody tr th:only-of-type {\n        vertical-align: middle;\n    }\n\n    .dataframe tbody tr th {\n        vertical-align: top;\n    }\n\n    .dataframe thead th {\n        text-align: right;\n    }\n</style>\n<table border=\"1\" class=\"dataframe\">\n  <thead>\n    <tr style=\"text-align: right;\">\n      <th></th>\n      <th>name</th>\n      <th>map</th>\n      <th>ndcg</th>\n      <th>recip_rank</th>\n    </tr>\n  </thead>\n  <tbody>\n    <tr>\n      <th>0</th>\n      <td>bm25</td>\n      <td>0.370004</td>\n      <td>0.593433</td>\n      <td>0.795028</td>\n    </tr>\n    <tr>\n      <th>1</th>\n      <td>L2R</td>\n      <td>0.119847</td>\n      <td>0.432649</td>\n      <td>0.524127</td>\n    </tr>\n    <tr>\n      <th>2</th>\n      <td>L2R+</td>\n      <td>0.118282</td>\n      <td>0.430317</td>\n      <td>0.492220</td>\n    </tr>\n    <tr>\n      <th>3</th>\n      <td>sum</td>\n      <td>0.085160</td>\n      <td>0.374265</td>\n      <td>0.173978</td>\n    </tr>\n    <tr>\n      <th>4</th>\n      <td>GloVe</td>\n      <td>0.050179</td>\n      <td>0.326222</td>\n      <td>0.072101</td>\n    </tr>\n  </tbody>\n</table>\n</div>"
     },
     "execution_count": 90,
     "metadata": {},
     "output_type": "execute_result"
    }
   ],
   "source": [
    "pt.Experiment([bm25, pipe_rf_L2R, rf_pipe_complete, summation, glove], dataset.get_topics(\"test-2019\"), dataset.get_qrels(\"test-2019\"), filter_by_qrels = True, eval_metrics=[\"map\", \"ndcg\", \"recip_rank\"], names = [\"bm25\", \"L2R\", \"L2R+\", \"sum\", \"GloVe\"])"
   ],
   "metadata": {
    "collapsed": false,
    "pycharm": {
     "name": "#%%\n"
    }
   }
  },
  {
   "cell_type": "code",
   "execution_count": 91,
   "outputs": [
    {
     "name": "stdout",
     "output_type": "stream",
     "text": [
      "1649.7361085414886\n"
     ]
    }
   ],
   "source": [
    "end = time.time()\n",
    "print(end - start)"
   ],
   "metadata": {
    "collapsed": false,
    "pycharm": {
     "name": "#%%\n"
    }
   }
  },
  {
   "cell_type": "code",
   "execution_count": null,
   "outputs": [],
   "source": [
    "# without flags this time"
   ],
   "metadata": {
    "collapsed": false,
    "pycharm": {
     "name": "#%%\n"
    }
   }
  },
  {
   "cell_type": "code",
   "execution_count": null,
   "outputs": [],
   "source": [
    "# 11343.447141647339 secs for hte fitting function for l2r+ with 300 trees, 100 queries and no flags"
   ],
   "metadata": {
    "collapsed": false,
    "pycharm": {
     "name": "#%%\n"
    }
   }
  }
 ],
 "metadata": {
  "kernelspec": {
   "display_name": "Python 3",
   "language": "python",
   "name": "python3"
  },
  "language_info": {
   "codemirror_mode": {
    "name": "ipython",
    "version": 2
   },
   "file_extension": ".py",
   "mimetype": "text/x-python",
   "name": "python",
   "nbconvert_exporter": "python",
   "pygments_lexer": "ipython2",
   "version": "2.7.6"
  }
 },
 "nbformat": 4,
 "nbformat_minor": 0
}