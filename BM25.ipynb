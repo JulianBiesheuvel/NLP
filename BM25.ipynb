{
 "cells": [
  {
   "cell_type": "code",
   "execution_count": 2,
   "metadata": {
    "collapsed": true,
    "pycharm": {
     "name": "#%%\n"
    }
   },
   "outputs": [
    {
     "name": "stderr",
     "output_type": "stream",
     "text": [
      "PyTerrier 0.8.0 has loaded Terrier 5.6 (built by craigmacdonald on 2021-09-17 13:27)\n",
      "\n"
     ]
    }
   ],
   "source": [
    "# Import all the needed libraries\n",
    "import pyterrier as pt\n",
    "import pandas as pd\n",
    "from tqdm import tqdm\n",
    "import numpy as np\n",
    "import matplotlib.pyplot as plt\n",
    "import os\n",
    "if not pt.started():\n",
    "    pt.init()"
   ]
  },
  {
   "cell_type": "code",
   "execution_count": 3,
   "outputs": [
    {
     "name": "stdout",
     "output_type": "stream",
     "text": [
      "14:43:55.287 [main] WARN org.terrier.structures.BaseCompressingMetaIndex - Structure meta reading data file directly from disk (SLOW) - try index.meta.data-source=fileinmem in the index properties file. 1,9 GiB of memory would be required.\r\n",
      "Number of documents: 8841823\n",
      "Number of terms: 1170682\n",
      "Number of postings: 215238456\n",
      "Number of fields: 1\n",
      "Number of tokens: 288759529\n",
      "Field names: [text]\n",
      "Positions:   false\n",
      "\n"
     ]
    }
   ],
   "source": [
    "# Load the dataset\n",
    "dataset = pt.datasets.get_dataset(\"trec-deep-learning-passages\")\n",
    "\n",
    "# Create index reference bases on locally stored index files\n",
    "index_ref = pt.IndexRef.of(os.getcwd() + \"./passage_index/data.properties\")\n",
    "\n",
    "# Create an index factory\n",
    "index = pt.IndexFactory.of(index_ref)\n",
    "\n",
    "# Print the statistics of the index\n",
    "print(index.getCollectionStatistics().toString())\n",
    "\n",
    "# Create the batch retrieval model of the BM25, with the provided index for the passeges\n",
    "bm25 = pt.BatchRetrieve(index, wmodel=\"BM25\")"
   ],
   "metadata": {
    "collapsed": false,
    "pycharm": {
     "name": "#%%\n"
    }
   }
  },
  {
   "cell_type": "code",
   "execution_count": 4,
   "outputs": [],
   "source": [
    "# top_100_queries = pd.read_csv('train_topics_100.csv')"
   ],
   "metadata": {
    "collapsed": false,
    "pycharm": {
     "name": "#%%\n"
    }
   }
  },
  {
   "cell_type": "code",
   "execution_count": 5,
   "outputs": [],
   "source": [
    "# documents = [{'qid': qid, 'docids': list(bm25.search(query)['docid'])} for qid, query in zip(top_100_queries['qid'], top_100_queries['query'])]"
   ],
   "metadata": {
    "collapsed": false,
    "pycharm": {
     "name": "#%%\n"
    }
   }
  },
  {
   "cell_type": "code",
   "execution_count": 6,
   "outputs": [],
   "source": [
    "# df = pd.DataFrame(data=documents, columns=['qid', 'docids'])"
   ],
   "metadata": {
    "collapsed": false,
    "pycharm": {
     "name": "#%%\n"
    }
   }
  },
  {
   "cell_type": "code",
   "execution_count": 7,
   "outputs": [],
   "source": [
    "# df.to_csv('relevant_docs_for_100_queries.csv', index=False)"
   ],
   "metadata": {
    "collapsed": false,
    "pycharm": {
     "name": "#%%\n"
    }
   }
  },
  {
   "cell_type": "code",
   "execution_count": 17,
   "outputs": [
    {
     "name": "stdout",
     "output_type": "stream",
     "text": [
      "14:48:05.136 [main] WARN org.terrier.applications.batchquerying.TRECQuery - trec.encoding is not set; resorting to platform default (windows-1252). Retrieval may be platform dependent. Recommend trec.encoding=UTF-8\r\n"
     ]
    }
   ],
   "source": [
    "test_queries = dataset.get_topics('test-2019')\n",
    "test_qrels = dataset.get_qrels('test-2019')"
   ],
   "metadata": {
    "collapsed": false,
    "pycharm": {
     "name": "#%%\n"
    }
   }
  },
  {
   "cell_type": "code",
   "execution_count": 21,
   "outputs": [],
   "source": [
    "test_queries = test_queries[test_queries['qid'].isin(list(test_qrels['qid']))]"
   ],
   "metadata": {
    "collapsed": false,
    "pycharm": {
     "name": "#%%\n"
    }
   }
  },
  {
   "cell_type": "code",
   "execution_count": 22,
   "outputs": [
    {
     "data": {
      "text/plain": "         qid                                              query\n20    156493                                   do goldfish grow\n22   1110199                          what is wifi vs bluetooth\n26   1063750              why did the us volunterilay enter ww1\n34    130510                    definition declaratory judgment\n42    489204                           right pelvic pain causes\n44    573724         what are the social determinants of health\n51    168216        does legionella pneumophila cause pneumonia\n55   1133167                      how is the weather in jamaica\n63    527433            types of dysarthria from cerebral palsy\n72   1037798                                 who is robert gray\n73    915593          what types of food can you cook sous vide\n74    264014                     how long is life cycle of flea\n75   1121402                    what can contour plowing reduce\n76    962179                when was the salvation army founded\n77   1117099                            what is a active margin\n83    148538                      difference between rn and bsn\n84    451602    medicare s definition of mechanical ventilation\n86    359349          how to find the midsegment of a trapezoid\n88   1115776                what is an aml surveillance analyst\n91   1112341              what is the daily life of thai people\n103   131843                             definition of a sigmet\n104   104861                 cost of interior concrete flooring\n105   833860       what is the most popular food in switzerland\n106   207786                   how are some sharks warm blooded\n115  1114819       what is durable medical equipment consist of\n120   183378                           exons definition biology\n125  1106007                                    define visceral\n129  1124210                              tracheids are part of\n131   490595                                 rsa definition key\n134  1103812  who formed the commonwealth of independent states\n139    87181             causes of left ventricular hypertrophy\n142   443396                                lps laws definition\n148  1121709                      what are the three percenters\n150    87452                         causes of military suicide\n155   855410                         what is theraderm used for\n157  1114646                      what is famvir prescribed for\n158    19335          anthropological definition of environment\n160    47923         axon terminals or synaptic knob definition\n162   405717                       is cdg airport in main paris\n173   182539                      example of monotonic function\n186  1113437             what is physical description of spruce\n189  1129237        hydrogen is a liquid below what temperature\n195   146187  difference between a mcdouble and a double che...",
      "text/html": "<div>\n<style scoped>\n    .dataframe tbody tr th:only-of-type {\n        vertical-align: middle;\n    }\n\n    .dataframe tbody tr th {\n        vertical-align: top;\n    }\n\n    .dataframe thead th {\n        text-align: right;\n    }\n</style>\n<table border=\"1\" class=\"dataframe\">\n  <thead>\n    <tr style=\"text-align: right;\">\n      <th></th>\n      <th>qid</th>\n      <th>query</th>\n    </tr>\n  </thead>\n  <tbody>\n    <tr>\n      <th>20</th>\n      <td>156493</td>\n      <td>do goldfish grow</td>\n    </tr>\n    <tr>\n      <th>22</th>\n      <td>1110199</td>\n      <td>what is wifi vs bluetooth</td>\n    </tr>\n    <tr>\n      <th>26</th>\n      <td>1063750</td>\n      <td>why did the us volunterilay enter ww1</td>\n    </tr>\n    <tr>\n      <th>34</th>\n      <td>130510</td>\n      <td>definition declaratory judgment</td>\n    </tr>\n    <tr>\n      <th>42</th>\n      <td>489204</td>\n      <td>right pelvic pain causes</td>\n    </tr>\n    <tr>\n      <th>44</th>\n      <td>573724</td>\n      <td>what are the social determinants of health</td>\n    </tr>\n    <tr>\n      <th>51</th>\n      <td>168216</td>\n      <td>does legionella pneumophila cause pneumonia</td>\n    </tr>\n    <tr>\n      <th>55</th>\n      <td>1133167</td>\n      <td>how is the weather in jamaica</td>\n    </tr>\n    <tr>\n      <th>63</th>\n      <td>527433</td>\n      <td>types of dysarthria from cerebral palsy</td>\n    </tr>\n    <tr>\n      <th>72</th>\n      <td>1037798</td>\n      <td>who is robert gray</td>\n    </tr>\n    <tr>\n      <th>73</th>\n      <td>915593</td>\n      <td>what types of food can you cook sous vide</td>\n    </tr>\n    <tr>\n      <th>74</th>\n      <td>264014</td>\n      <td>how long is life cycle of flea</td>\n    </tr>\n    <tr>\n      <th>75</th>\n      <td>1121402</td>\n      <td>what can contour plowing reduce</td>\n    </tr>\n    <tr>\n      <th>76</th>\n      <td>962179</td>\n      <td>when was the salvation army founded</td>\n    </tr>\n    <tr>\n      <th>77</th>\n      <td>1117099</td>\n      <td>what is a active margin</td>\n    </tr>\n    <tr>\n      <th>83</th>\n      <td>148538</td>\n      <td>difference between rn and bsn</td>\n    </tr>\n    <tr>\n      <th>84</th>\n      <td>451602</td>\n      <td>medicare s definition of mechanical ventilation</td>\n    </tr>\n    <tr>\n      <th>86</th>\n      <td>359349</td>\n      <td>how to find the midsegment of a trapezoid</td>\n    </tr>\n    <tr>\n      <th>88</th>\n      <td>1115776</td>\n      <td>what is an aml surveillance analyst</td>\n    </tr>\n    <tr>\n      <th>91</th>\n      <td>1112341</td>\n      <td>what is the daily life of thai people</td>\n    </tr>\n    <tr>\n      <th>103</th>\n      <td>131843</td>\n      <td>definition of a sigmet</td>\n    </tr>\n    <tr>\n      <th>104</th>\n      <td>104861</td>\n      <td>cost of interior concrete flooring</td>\n    </tr>\n    <tr>\n      <th>105</th>\n      <td>833860</td>\n      <td>what is the most popular food in switzerland</td>\n    </tr>\n    <tr>\n      <th>106</th>\n      <td>207786</td>\n      <td>how are some sharks warm blooded</td>\n    </tr>\n    <tr>\n      <th>115</th>\n      <td>1114819</td>\n      <td>what is durable medical equipment consist of</td>\n    </tr>\n    <tr>\n      <th>120</th>\n      <td>183378</td>\n      <td>exons definition biology</td>\n    </tr>\n    <tr>\n      <th>125</th>\n      <td>1106007</td>\n      <td>define visceral</td>\n    </tr>\n    <tr>\n      <th>129</th>\n      <td>1124210</td>\n      <td>tracheids are part of</td>\n    </tr>\n    <tr>\n      <th>131</th>\n      <td>490595</td>\n      <td>rsa definition key</td>\n    </tr>\n    <tr>\n      <th>134</th>\n      <td>1103812</td>\n      <td>who formed the commonwealth of independent states</td>\n    </tr>\n    <tr>\n      <th>139</th>\n      <td>87181</td>\n      <td>causes of left ventricular hypertrophy</td>\n    </tr>\n    <tr>\n      <th>142</th>\n      <td>443396</td>\n      <td>lps laws definition</td>\n    </tr>\n    <tr>\n      <th>148</th>\n      <td>1121709</td>\n      <td>what are the three percenters</td>\n    </tr>\n    <tr>\n      <th>150</th>\n      <td>87452</td>\n      <td>causes of military suicide</td>\n    </tr>\n    <tr>\n      <th>155</th>\n      <td>855410</td>\n      <td>what is theraderm used for</td>\n    </tr>\n    <tr>\n      <th>157</th>\n      <td>1114646</td>\n      <td>what is famvir prescribed for</td>\n    </tr>\n    <tr>\n      <th>158</th>\n      <td>19335</td>\n      <td>anthropological definition of environment</td>\n    </tr>\n    <tr>\n      <th>160</th>\n      <td>47923</td>\n      <td>axon terminals or synaptic knob definition</td>\n    </tr>\n    <tr>\n      <th>162</th>\n      <td>405717</td>\n      <td>is cdg airport in main paris</td>\n    </tr>\n    <tr>\n      <th>173</th>\n      <td>182539</td>\n      <td>example of monotonic function</td>\n    </tr>\n    <tr>\n      <th>186</th>\n      <td>1113437</td>\n      <td>what is physical description of spruce</td>\n    </tr>\n    <tr>\n      <th>189</th>\n      <td>1129237</td>\n      <td>hydrogen is a liquid below what temperature</td>\n    </tr>\n    <tr>\n      <th>195</th>\n      <td>146187</td>\n      <td>difference between a mcdouble and a double che...</td>\n    </tr>\n  </tbody>\n</table>\n</div>"
     },
     "execution_count": 22,
     "metadata": {},
     "output_type": "execute_result"
    }
   ],
   "source": [
    "test_queries"
   ],
   "metadata": {
    "collapsed": false,
    "pycharm": {
     "name": "#%%\n"
    }
   }
  },
  {
   "cell_type": "code",
   "execution_count": 23,
   "outputs": [],
   "source": [
    "test_documents = [{'qid': qid, 'docids': list(bm25.search(query)['docid'])} for qid, query in zip(test_queries['qid'], test_queries['query'])]"
   ],
   "metadata": {
    "collapsed": false,
    "pycharm": {
     "name": "#%%\n"
    }
   }
  },
  {
   "cell_type": "code",
   "execution_count": 25,
   "outputs": [],
   "source": [
    "df = pd.DataFrame(data=test_documents, columns=['qid', 'docids'])"
   ],
   "metadata": {
    "collapsed": false,
    "pycharm": {
     "name": "#%%\n"
    }
   }
  },
  {
   "cell_type": "code",
   "execution_count": 26,
   "outputs": [
    {
     "data": {
      "text/plain": "        qid                                             docids\n0    156493  [8182161, 6139386, 3288600, 3288596, 2259183, ...\n1   1110199  [3838645, 554521, 398442, 4511137, 5218014, 81...\n2   1063750  [4788295, 2997653, 4337527, 6093907, 2981566, ...\n3    130510  [1494936, 7125239, 799647, 7501563, 996732, 99...\n4    489204  [1479542, 1051498, 1950269, 2268657, 973923, 2...\n5    573724  [2417985, 394136, 394139, 3365638, 7384325, 71...\n6    168216  [3344828, 1381477, 3830857, 3174840, 1735360, ...\n7   1133167  [5674622, 8160230, 8255705, 190809, 6467522, 8...\n8    527433  [8617271, 6186391, 269423, 1251475, 4903731, 1...\n9   1037798  [8760867, 8760864, 3641634, 8760873, 4788864, ...\n10   915593  [6923052, 82113, 8178998, 3538164, 82107, 3523...\n11   264014  [6337909, 96854, 3666584, 1610712, 4834547, 16...\n12  1121402  [8052622, 5189913, 8052624, 188213, 182373, 18...\n13   962179  [8689054, 4511501, 4511504, 8689056, 5773189, ...\n14  1117099  [8093931, 1798612, 4458512, 334615, 6122720, 1...\n15   148538  [985491, 4264129, 5077707, 8283527, 4185812, 7...\n16   451602  [2176453, 2176450, 5179251, 4345752, 2244882, ...\n17   359349  [576629, 68649, 68653, 68647, 68648, 2293820, ...\n18  1115776  [8106324, 8106323, 4314171, 8106318, 8106321, ...\n19  1112341  [8139256, 8139255, 2096429, 8139258, 2096427, ...\n20   131843  [8305152, 985994, 8305153, 8305156, 3841396, 9...\n21   104861  [459676, 5703401, 8260035, 409268, 6351571, 57...\n22   833860  [3437288, 6230227, 6230226, 6230229, 1524406, ...\n23   207786  [8273763, 8273755, 2763917, 2998723, 8273757, ...\n24  1114819  [988373, 5521373, 4890560, 1315998, 1724520, 8...\n25   183378  [8794302, 2533260, 8779628, 4856305, 2089154, ...\n26  1106007  [1334335, 5836920, 7726655, 2143418, 6126194, ...\n27  1124210  [2258595, 8026740, 8026735, 2494577, 2258597, ...\n28   490595  [7839904, 1929910, 3572695, 4842897, 1288938, ...\n29  1103812  [8220086, 3843267, 8220089, 3672744, 4824831, ...\n30    87181  [5197135, 7666831, 2986227, 47210, 2556144, 64...\n31   443396  [8079046, 456708, 1465664, 4792650, 4792649, 3...\n32  1121709  [3928432, 4965913, 1243379, 1085021, 1269175, ...\n33    87452  [8819111, 8333919, 186939, 8819116, 1749882, 5...\n34   855410      [8651775, 8651776, 8651772, 8651771, 8651770]\n35  1114646  [8117093, 8117087, 771368, 8117094, 7196961, 6...\n36    19335  [8412684, 7267248, 8412687, 527689, 3175481, 5...\n37    47923  [5032362, 8641107, 1868437, 1681334, 8418681, ...\n38   405717  [6654655, 7447941, 8433858, 2365660, 2702419, ...\n39   182539  [57444, 57443, 57447, 8757181, 7371262, 875717...\n40  1113437  [8128798, 8128790, 6021898, 8128796, 4981632, ...\n41  1129237  [128984, 2697752, 7911557, 4233385, 4233383, 2...\n42   146187  [8434623, 8434626, 8434622, 8434619, 744165, 8...",
      "text/html": "<div>\n<style scoped>\n    .dataframe tbody tr th:only-of-type {\n        vertical-align: middle;\n    }\n\n    .dataframe tbody tr th {\n        vertical-align: top;\n    }\n\n    .dataframe thead th {\n        text-align: right;\n    }\n</style>\n<table border=\"1\" class=\"dataframe\">\n  <thead>\n    <tr style=\"text-align: right;\">\n      <th></th>\n      <th>qid</th>\n      <th>docids</th>\n    </tr>\n  </thead>\n  <tbody>\n    <tr>\n      <th>0</th>\n      <td>156493</td>\n      <td>[8182161, 6139386, 3288600, 3288596, 2259183, ...</td>\n    </tr>\n    <tr>\n      <th>1</th>\n      <td>1110199</td>\n      <td>[3838645, 554521, 398442, 4511137, 5218014, 81...</td>\n    </tr>\n    <tr>\n      <th>2</th>\n      <td>1063750</td>\n      <td>[4788295, 2997653, 4337527, 6093907, 2981566, ...</td>\n    </tr>\n    <tr>\n      <th>3</th>\n      <td>130510</td>\n      <td>[1494936, 7125239, 799647, 7501563, 996732, 99...</td>\n    </tr>\n    <tr>\n      <th>4</th>\n      <td>489204</td>\n      <td>[1479542, 1051498, 1950269, 2268657, 973923, 2...</td>\n    </tr>\n    <tr>\n      <th>5</th>\n      <td>573724</td>\n      <td>[2417985, 394136, 394139, 3365638, 7384325, 71...</td>\n    </tr>\n    <tr>\n      <th>6</th>\n      <td>168216</td>\n      <td>[3344828, 1381477, 3830857, 3174840, 1735360, ...</td>\n    </tr>\n    <tr>\n      <th>7</th>\n      <td>1133167</td>\n      <td>[5674622, 8160230, 8255705, 190809, 6467522, 8...</td>\n    </tr>\n    <tr>\n      <th>8</th>\n      <td>527433</td>\n      <td>[8617271, 6186391, 269423, 1251475, 4903731, 1...</td>\n    </tr>\n    <tr>\n      <th>9</th>\n      <td>1037798</td>\n      <td>[8760867, 8760864, 3641634, 8760873, 4788864, ...</td>\n    </tr>\n    <tr>\n      <th>10</th>\n      <td>915593</td>\n      <td>[6923052, 82113, 8178998, 3538164, 82107, 3523...</td>\n    </tr>\n    <tr>\n      <th>11</th>\n      <td>264014</td>\n      <td>[6337909, 96854, 3666584, 1610712, 4834547, 16...</td>\n    </tr>\n    <tr>\n      <th>12</th>\n      <td>1121402</td>\n      <td>[8052622, 5189913, 8052624, 188213, 182373, 18...</td>\n    </tr>\n    <tr>\n      <th>13</th>\n      <td>962179</td>\n      <td>[8689054, 4511501, 4511504, 8689056, 5773189, ...</td>\n    </tr>\n    <tr>\n      <th>14</th>\n      <td>1117099</td>\n      <td>[8093931, 1798612, 4458512, 334615, 6122720, 1...</td>\n    </tr>\n    <tr>\n      <th>15</th>\n      <td>148538</td>\n      <td>[985491, 4264129, 5077707, 8283527, 4185812, 7...</td>\n    </tr>\n    <tr>\n      <th>16</th>\n      <td>451602</td>\n      <td>[2176453, 2176450, 5179251, 4345752, 2244882, ...</td>\n    </tr>\n    <tr>\n      <th>17</th>\n      <td>359349</td>\n      <td>[576629, 68649, 68653, 68647, 68648, 2293820, ...</td>\n    </tr>\n    <tr>\n      <th>18</th>\n      <td>1115776</td>\n      <td>[8106324, 8106323, 4314171, 8106318, 8106321, ...</td>\n    </tr>\n    <tr>\n      <th>19</th>\n      <td>1112341</td>\n      <td>[8139256, 8139255, 2096429, 8139258, 2096427, ...</td>\n    </tr>\n    <tr>\n      <th>20</th>\n      <td>131843</td>\n      <td>[8305152, 985994, 8305153, 8305156, 3841396, 9...</td>\n    </tr>\n    <tr>\n      <th>21</th>\n      <td>104861</td>\n      <td>[459676, 5703401, 8260035, 409268, 6351571, 57...</td>\n    </tr>\n    <tr>\n      <th>22</th>\n      <td>833860</td>\n      <td>[3437288, 6230227, 6230226, 6230229, 1524406, ...</td>\n    </tr>\n    <tr>\n      <th>23</th>\n      <td>207786</td>\n      <td>[8273763, 8273755, 2763917, 2998723, 8273757, ...</td>\n    </tr>\n    <tr>\n      <th>24</th>\n      <td>1114819</td>\n      <td>[988373, 5521373, 4890560, 1315998, 1724520, 8...</td>\n    </tr>\n    <tr>\n      <th>25</th>\n      <td>183378</td>\n      <td>[8794302, 2533260, 8779628, 4856305, 2089154, ...</td>\n    </tr>\n    <tr>\n      <th>26</th>\n      <td>1106007</td>\n      <td>[1334335, 5836920, 7726655, 2143418, 6126194, ...</td>\n    </tr>\n    <tr>\n      <th>27</th>\n      <td>1124210</td>\n      <td>[2258595, 8026740, 8026735, 2494577, 2258597, ...</td>\n    </tr>\n    <tr>\n      <th>28</th>\n      <td>490595</td>\n      <td>[7839904, 1929910, 3572695, 4842897, 1288938, ...</td>\n    </tr>\n    <tr>\n      <th>29</th>\n      <td>1103812</td>\n      <td>[8220086, 3843267, 8220089, 3672744, 4824831, ...</td>\n    </tr>\n    <tr>\n      <th>30</th>\n      <td>87181</td>\n      <td>[5197135, 7666831, 2986227, 47210, 2556144, 64...</td>\n    </tr>\n    <tr>\n      <th>31</th>\n      <td>443396</td>\n      <td>[8079046, 456708, 1465664, 4792650, 4792649, 3...</td>\n    </tr>\n    <tr>\n      <th>32</th>\n      <td>1121709</td>\n      <td>[3928432, 4965913, 1243379, 1085021, 1269175, ...</td>\n    </tr>\n    <tr>\n      <th>33</th>\n      <td>87452</td>\n      <td>[8819111, 8333919, 186939, 8819116, 1749882, 5...</td>\n    </tr>\n    <tr>\n      <th>34</th>\n      <td>855410</td>\n      <td>[8651775, 8651776, 8651772, 8651771, 8651770]</td>\n    </tr>\n    <tr>\n      <th>35</th>\n      <td>1114646</td>\n      <td>[8117093, 8117087, 771368, 8117094, 7196961, 6...</td>\n    </tr>\n    <tr>\n      <th>36</th>\n      <td>19335</td>\n      <td>[8412684, 7267248, 8412687, 527689, 3175481, 5...</td>\n    </tr>\n    <tr>\n      <th>37</th>\n      <td>47923</td>\n      <td>[5032362, 8641107, 1868437, 1681334, 8418681, ...</td>\n    </tr>\n    <tr>\n      <th>38</th>\n      <td>405717</td>\n      <td>[6654655, 7447941, 8433858, 2365660, 2702419, ...</td>\n    </tr>\n    <tr>\n      <th>39</th>\n      <td>182539</td>\n      <td>[57444, 57443, 57447, 8757181, 7371262, 875717...</td>\n    </tr>\n    <tr>\n      <th>40</th>\n      <td>1113437</td>\n      <td>[8128798, 8128790, 6021898, 8128796, 4981632, ...</td>\n    </tr>\n    <tr>\n      <th>41</th>\n      <td>1129237</td>\n      <td>[128984, 2697752, 7911557, 4233385, 4233383, 2...</td>\n    </tr>\n    <tr>\n      <th>42</th>\n      <td>146187</td>\n      <td>[8434623, 8434626, 8434622, 8434619, 744165, 8...</td>\n    </tr>\n  </tbody>\n</table>\n</div>"
     },
     "execution_count": 26,
     "metadata": {},
     "output_type": "execute_result"
    }
   ],
   "source": [
    "df"
   ],
   "metadata": {
    "collapsed": false,
    "pycharm": {
     "name": "#%%\n"
    }
   }
  },
  {
   "cell_type": "code",
   "execution_count": 27,
   "outputs": [],
   "source": [
    "df.to_csv('relevant_docs_for_100_queries_test.csv', index=False)"
   ],
   "metadata": {
    "collapsed": false,
    "pycharm": {
     "name": "#%%\n"
    }
   }
  },
  {
   "cell_type": "code",
   "execution_count": null,
   "outputs": [],
   "source": [],
   "metadata": {
    "collapsed": false,
    "pycharm": {
     "name": "#%%\n"
    }
   }
  }
 ],
 "metadata": {
  "kernelspec": {
   "display_name": "Python 3",
   "language": "python",
   "name": "python3"
  },
  "language_info": {
   "codemirror_mode": {
    "name": "ipython",
    "version": 2
   },
   "file_extension": ".py",
   "mimetype": "text/x-python",
   "name": "python",
   "nbconvert_exporter": "python",
   "pygments_lexer": "ipython2",
   "version": "2.7.6"
  }
 },
 "nbformat": 4,
 "nbformat_minor": 0
}